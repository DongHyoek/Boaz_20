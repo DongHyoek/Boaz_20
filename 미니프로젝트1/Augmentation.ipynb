{
 "cells": [
  {
   "cell_type": "code",
   "execution_count": 1,
   "id": "38fe9387-168d-4ee9-ba05-a303aebf30f0",
   "metadata": {},
   "outputs": [
    {
     "name": "stderr",
     "output_type": "stream",
     "text": [
      "<frozen importlib._bootstrap>:228: RuntimeWarning: scipy._lib.messagestream.MessageStream size changed, may indicate binary incompatibility. Expected 56 from C header, got 64 from PyObject\n"
     ]
    }
   ],
   "source": [
    "#[Private_6th] klue_roberta-large + R-Drop Los 코드 참고\n",
    "#필요한 라이브러리 가져오기\n",
    "import os\n",
    "import random\n",
    "import numpy as np\n",
    "import pandas as pd\n",
    "import torch\n",
    "import torch.nn as nn\n",
    "import torch.nn.functional as F\n",
    "import multiprocessing\n",
    "import datasets\n",
    "import collections\n",
    "import transformers\n",
    "from datasets import Dataset\n",
    "from tqdm.notebook import tqdm\n",
    "\n",
    "from transformers import (\n",
    "    AutoConfig,\n",
    "    AutoTokenizer,\n",
    "    TrainingArguments,\n",
    "    DataCollatorWithPadding,\n",
    ")\n",
    "\n",
    "import warnings"
   ]
  },
  {
   "cell_type": "code",
   "execution_count": 2,
   "id": "5b5d02d4-9238-42e7-b940-7362247c9666",
   "metadata": {},
   "outputs": [],
   "source": [
    "#경고 무시\n",
    "warnings.filterwarnings(action='ignore')"
   ]
  },
  {
   "cell_type": "code",
   "execution_count": 3,
   "id": "94e76fe7-8fe1-4ab0-a151-a12c62764c83",
   "metadata": {},
   "outputs": [],
   "source": [
    "#seed 고정\n",
    "def seed_everything(seed):\n",
    "    os.environ['PYTHONHASHSEED'] = str(seed)\n",
    "    torch.manual_seed(seed)\n",
    "    torch.cuda.manual_seed(seed)\n",
    "    torch.cuda.manual_seed_all(seed)\n",
    "    torch.backends.cudnn.deterministic = True\n",
    "    torch.backends.cudnn.benchmark = False\n",
    "    np.random.seed(seed)\n",
    "    np.random.default_rng(seed)\n",
    "    random.seed(seed)"
   ]
  },
  {
   "cell_type": "code",
   "execution_count": 4,
   "id": "e4ff1c5c-861d-460b-8e9e-d013b05bca5d",
   "metadata": {},
   "outputs": [],
   "source": [
    "#일단 SEED =1 부터\n",
    "SEED = 1"
   ]
  },
  {
   "cell_type": "code",
   "execution_count": 5,
   "id": "4f677292-37ea-459e-a1be-f354b8995e37",
   "metadata": {},
   "outputs": [],
   "source": [
    "seed_everything(SEED)"
   ]
  },
  {
   "cell_type": "code",
   "execution_count": 6,
   "id": "e58fb2b3-298a-4afe-94c0-b938b6254d11",
   "metadata": {},
   "outputs": [],
   "source": [
    "#하이퍼 파라미터 세팅 -> 일단 데이터 증강을 할 때는 필요 없어\n",
    "PLM = 'klue/roberta-large'\n",
    "OUTPUT_DIR = './exps'\n",
    "NUM_PROC = 1\n",
    "TRAIN_BATCH_SIZE = 16\n",
    "NUM_EPOCH = 3\n",
    "WEIGHT_DECAY = 1e-3\n",
    "WARMUP_RATIO = 0.05\n",
    "LEARNING_RATE = 2.5e-5\n",
    "SAVE_STEPS = 500\n",
    "MAX_LENGTH = 128\n",
    "MINIMUM_SIZE = 20\n",
    "MAXIMUM_SIZE = 80\n",
    "LOGGING_STEPS = 100\n",
    "CPU_COUNT = multiprocessing.cpu_count() // 2"
   ]
  },
  {
   "cell_type": "code",
   "execution_count": 8,
   "id": "65d102a4-678f-4468-bbce-d6b3228574e6",
   "metadata": {},
   "outputs": [
    {
     "data": {
      "text/html": [
       "<div>\n",
       "<style scoped>\n",
       "    .dataframe tbody tr th:only-of-type {\n",
       "        vertical-align: middle;\n",
       "    }\n",
       "\n",
       "    .dataframe tbody tr th {\n",
       "        vertical-align: top;\n",
       "    }\n",
       "\n",
       "    .dataframe thead th {\n",
       "        text-align: right;\n",
       "    }\n",
       "</style>\n",
       "<table border=\"1\" class=\"dataframe\">\n",
       "  <thead>\n",
       "    <tr style=\"text-align: right;\">\n",
       "      <th></th>\n",
       "      <th>ID</th>\n",
       "      <th>문장</th>\n",
       "      <th>유형</th>\n",
       "      <th>극성</th>\n",
       "      <th>시제</th>\n",
       "      <th>확실성</th>\n",
       "      <th>label</th>\n",
       "    </tr>\n",
       "  </thead>\n",
       "  <tbody>\n",
       "    <tr>\n",
       "      <th>0</th>\n",
       "      <td>TRAIN_00000</td>\n",
       "      <td>0.75%포인트 금리 인상은 1994년 이후 28년 만에 처음이다.</td>\n",
       "      <td>사실형</td>\n",
       "      <td>긍정</td>\n",
       "      <td>현재</td>\n",
       "      <td>확실</td>\n",
       "      <td>사실형-긍정-현재-확실</td>\n",
       "    </tr>\n",
       "    <tr>\n",
       "      <th>1</th>\n",
       "      <td>TRAIN_00001</td>\n",
       "      <td>이어 ＂앞으로 전문가들과 함께 4주 단위로 상황을 재평가할 예정＂이라며 ＂그 이전이...</td>\n",
       "      <td>사실형</td>\n",
       "      <td>긍정</td>\n",
       "      <td>과거</td>\n",
       "      <td>확실</td>\n",
       "      <td>사실형-긍정-과거-확실</td>\n",
       "    </tr>\n",
       "    <tr>\n",
       "      <th>2</th>\n",
       "      <td>TRAIN_00002</td>\n",
       "      <td>정부가 고유가 대응을 위해 7월부터 연말까지 유류세 인하 폭을 30%에서 37%까지...</td>\n",
       "      <td>사실형</td>\n",
       "      <td>긍정</td>\n",
       "      <td>미래</td>\n",
       "      <td>확실</td>\n",
       "      <td>사실형-긍정-미래-확실</td>\n",
       "    </tr>\n",
       "    <tr>\n",
       "      <th>3</th>\n",
       "      <td>TRAIN_00003</td>\n",
       "      <td>서울시는 올해 3월 즉시 견인 유예시간 60분을 제공하겠다고 밝혔지만, 하루 만에 ...</td>\n",
       "      <td>사실형</td>\n",
       "      <td>긍정</td>\n",
       "      <td>과거</td>\n",
       "      <td>확실</td>\n",
       "      <td>사실형-긍정-과거-확실</td>\n",
       "    </tr>\n",
       "    <tr>\n",
       "      <th>4</th>\n",
       "      <td>TRAIN_00004</td>\n",
       "      <td>익사한 자는 사다리에 태워 거꾸로 놓고 소금으로 코를 막아 가득 채운다.</td>\n",
       "      <td>사실형</td>\n",
       "      <td>긍정</td>\n",
       "      <td>현재</td>\n",
       "      <td>확실</td>\n",
       "      <td>사실형-긍정-현재-확실</td>\n",
       "    </tr>\n",
       "  </tbody>\n",
       "</table>\n",
       "</div>"
      ],
      "text/plain": [
       "            ID                                                 문장   유형  극성  \\\n",
       "0  TRAIN_00000              0.75%포인트 금리 인상은 1994년 이후 28년 만에 처음이다.  사실형  긍정   \n",
       "1  TRAIN_00001  이어 ＂앞으로 전문가들과 함께 4주 단위로 상황을 재평가할 예정＂이라며 ＂그 이전이...  사실형  긍정   \n",
       "2  TRAIN_00002  정부가 고유가 대응을 위해 7월부터 연말까지 유류세 인하 폭을 30%에서 37%까지...  사실형  긍정   \n",
       "3  TRAIN_00003  서울시는 올해 3월 즉시 견인 유예시간 60분을 제공하겠다고 밝혔지만, 하루 만에 ...  사실형  긍정   \n",
       "4  TRAIN_00004           익사한 자는 사다리에 태워 거꾸로 놓고 소금으로 코를 막아 가득 채운다.  사실형  긍정   \n",
       "\n",
       "   시제 확실성         label  \n",
       "0  현재  확실  사실형-긍정-현재-확실  \n",
       "1  과거  확실  사실형-긍정-과거-확실  \n",
       "2  미래  확실  사실형-긍정-미래-확실  \n",
       "3  과거  확실  사실형-긍정-과거-확실  \n",
       "4  현재  확실  사실형-긍정-현재-확실  "
      ]
     },
     "execution_count": 8,
     "metadata": {},
     "output_type": "execute_result"
    }
   ],
   "source": [
    "#raw 데이터셋 가져오기, 어차피 증강을 위해 내가 사용할 수 있는 데이터는 train 데이터밖에 없어\n",
    "data_dir = './dataset'\n",
    "train_data_file = 'train.csv'\n",
    "\n",
    "file_path = os.path.join(data_dir, train_data_file)\n",
    "df = pd.read_csv(file_path)\n",
    "df = df.drop_duplicates(subset=['문장']) #중복된 문장 지우기\n",
    "df.head()"
   ]
  },
  {
   "attachments": {},
   "cell_type": "markdown",
   "id": "db5a5339-1d45-4bdb-bb7b-85e2f429649c",
   "metadata": {},
   "source": [
    "### Encoding dataset"
   ]
  },
  {
   "cell_type": "code",
   "execution_count": 14,
   "id": "56780f67-ae10-4944-a6ee-940e7cc6cb22",
   "metadata": {},
   "outputs": [],
   "source": [
    "model_name = PLM #하이퍼 파라미터에서 이미 지정해둠\n",
    "tokenizer = AutoTokenizer.from_pretrained(model_name, use_fast=True) # hugging face 에 공유된 language model 들은 이미 pretrain 되어 있기 때문에 tokenizer 도 이미 포함되어 있다고 생각하면 될 것 같다."
   ]
  },
  {
   "cell_type": "code",
   "execution_count": 15,
   "id": "9b7e1eac-ac75-4374-b069-6bcc867012b6",
   "metadata": {},
   "outputs": [],
   "source": [
    "#인코더 클래스 정의\n",
    "class Encoder :\n",
    "\n",
    "    def __init__(self, tokenizer, max_input_length, label_dict=None, train_flag=True) :\n",
    "        self.tokenizer = tokenizer\n",
    "        self.max_input_length = max_input_length\n",
    "        self.label_dict = label_dict\n",
    "        self.train_flag = train_flag\n",
    "\n",
    "    def __call__(self, examples) :\n",
    "\n",
    "        # 입력 문장 tokenizer를 통해서 인코딩\n",
    "        inputs = examples['문장']\n",
    "        model_inputs = self.tokenizer(inputs, \n",
    "            max_length=self.max_input_length, \n",
    "            return_token_type_ids=False,\n",
    "            truncation=True,\n",
    "        )\n",
    "\n",
    "        # 학습을 위한 인코더인 경우 label을 인덱스로 인코딩\n",
    "        if self.train_flag :\n",
    "            model_inputs['labels'] = [self.label_dict[l] for l in examples['label']]\n",
    "\n",
    "        return model_inputs"
   ]
  },
  {
   "cell_type": "code",
   "execution_count": 16,
   "id": "29a7c012-8924-4357-8cdc-fe76c2dbcdd1",
   "metadata": {},
   "outputs": [],
   "source": [
    "encoder = Encoder(tokenizer, MAX_LENGTH, label_dict)"
   ]
  },
  {
   "cell_type": "code",
   "execution_count": 17,
   "id": "db896dd4-e191-4ada-9aa1-2e8a7e98df1c",
   "metadata": {},
   "outputs": [
    {
     "name": "stdout",
     "output_type": "stream",
     "text": [
      "                                 "
     ]
    },
    {
     "data": {
      "application/json": {
       "ascii": false,
       "bar_format": null,
       "colour": null,
       "elapsed": 0.019992828369140625,
       "initial": 0,
       "n": 0,
       "ncols": null,
       "nrows": 81,
       "postfix": null,
       "prefix": "#0",
       "rate": null,
       "total": 1,
       "unit": "ba",
       "unit_divisor": 1000,
       "unit_scale": false
      },
      "application/vnd.jupyter.widget-view+json": {
       "model_id": "2dd129747dc448eab9009ed5e9e4e7a7",
       "version_major": 2,
       "version_minor": 0
      },
      "text/plain": [
       "#0:   0%|          | 0/1 [00:00<?, ?ba/s]"
      ]
     },
     "metadata": {},
     "output_type": "display_data"
    },
    {
     "name": "stdout",
     "output_type": "stream",
     "text": [
      " "
     ]
    },
    {
     "data": {
      "application/json": {
       "ascii": false,
       "bar_format": null,
       "colour": null,
       "elapsed": 0.021678447723388672,
       "initial": 0,
       "n": 0,
       "ncols": null,
       "nrows": 81,
       "postfix": null,
       "prefix": "#1",
       "rate": null,
       "total": 1,
       "unit": "ba",
       "unit_divisor": 1000,
       "unit_scale": false
      },
      "application/vnd.jupyter.widget-view+json": {
       "model_id": "c71a51c26f2f49c9a908b54360df1140",
       "version_major": 2,
       "version_minor": 0
      },
      "text/plain": [
       "#1:   0%|          | 0/1 [00:00<?, ?ba/s]"
      ]
     },
     "metadata": {},
     "output_type": "display_data"
    },
    {
     "name": "stdout",
     "output_type": "stream",
     "text": [
      " "
     ]
    },
    {
     "data": {
      "application/json": {
       "ascii": false,
       "bar_format": null,
       "colour": null,
       "elapsed": 0.020353317260742188,
       "initial": 0,
       "n": 0,
       "ncols": null,
       "nrows": 81,
       "postfix": null,
       "prefix": "#2",
       "rate": null,
       "total": 1,
       "unit": "ba",
       "unit_divisor": 1000,
       "unit_scale": false
      },
      "application/vnd.jupyter.widget-view+json": {
       "model_id": "929eba2337844b938aa80411025c60c8",
       "version_major": 2,
       "version_minor": 0
      },
      "text/plain": [
       "#2:   0%|          | 0/1 [00:00<?, ?ba/s]"
      ]
     },
     "metadata": {},
     "output_type": "display_data"
    },
    {
     "name": "stdout",
     "output_type": "stream",
     "text": [
      "  "
     ]
    },
    {
     "data": {
      "application/json": {
       "ascii": false,
       "bar_format": null,
       "colour": null,
       "elapsed": 0.021636009216308594,
       "initial": 0,
       "n": 0,
       "ncols": null,
       "nrows": 81,
       "postfix": null,
       "prefix": "#3",
       "rate": null,
       "total": 1,
       "unit": "ba",
       "unit_divisor": 1000,
       "unit_scale": false
      },
      "application/vnd.jupyter.widget-view+json": {
       "model_id": "2c7d099827794268a481c2462e0c1443",
       "version_major": 2,
       "version_minor": 0
      },
      "text/plain": [
       "#3:   0%|          | 0/1 [00:00<?, ?ba/s]"
      ]
     },
     "metadata": {},
     "output_type": "display_data"
    },
    {
     "data": {
      "application/json": {
       "ascii": false,
       "bar_format": null,
       "colour": null,
       "elapsed": 0.01876544952392578,
       "initial": 0,
       "n": 0,
       "ncols": null,
       "nrows": 81,
       "postfix": null,
       "prefix": "#4",
       "rate": null,
       "total": 1,
       "unit": "ba",
       "unit_divisor": 1000,
       "unit_scale": false
      },
      "application/vnd.jupyter.widget-view+json": {
       "model_id": "823ac13f40444b6ab974314e36a9eb8a",
       "version_major": 2,
       "version_minor": 0
      },
      "text/plain": [
       "#4:   0%|          | 0/1 [00:00<?, ?ba/s]"
      ]
     },
     "metadata": {},
     "output_type": "display_data"
    },
    {
     "name": "stdout",
     "output_type": "stream",
     "text": [
      "  "
     ]
    },
    {
     "data": {
      "application/json": {
       "ascii": false,
       "bar_format": null,
       "colour": null,
       "elapsed": 0.01909661293029785,
       "initial": 0,
       "n": 0,
       "ncols": null,
       "nrows": 81,
       "postfix": null,
       "prefix": "#5",
       "rate": null,
       "total": 1,
       "unit": "ba",
       "unit_divisor": 1000,
       "unit_scale": false
      },
      "application/vnd.jupyter.widget-view+json": {
       "model_id": "3d8d269106be457f840bbb24bf11d683",
       "version_major": 2,
       "version_minor": 0
      },
      "text/plain": [
       "#5:   0%|          | 0/1 [00:00<?, ?ba/s]"
      ]
     },
     "metadata": {},
     "output_type": "display_data"
    },
    {
     "data": {
      "application/json": {
       "ascii": false,
       "bar_format": null,
       "colour": null,
       "elapsed": 0.018587589263916016,
       "initial": 0,
       "n": 0,
       "ncols": null,
       "nrows": 81,
       "postfix": null,
       "prefix": "#6",
       "rate": null,
       "total": 1,
       "unit": "ba",
       "unit_divisor": 1000,
       "unit_scale": false
      },
      "application/vnd.jupyter.widget-view+json": {
       "model_id": "c30335e4cae441b990ad0398ce8b0beb",
       "version_major": 2,
       "version_minor": 0
      },
      "text/plain": [
       "#6:   0%|          | 0/1 [00:00<?, ?ba/s]"
      ]
     },
     "metadata": {},
     "output_type": "display_data"
    },
    {
     "name": "stdout",
     "output_type": "stream",
     "text": [
      " Ignored unknown kwarg option direction\n",
      "Ignored unknown kwarg option direction\n",
      "Ignored unknown kwarg option direction\n",
      "Ignored unknown kwarg option direction\n",
      "Ignored unknown kwarg option direction\n",
      "Ignored unknown kwarg option direction\n",
      "Ignored unknown kwarg option direction\n",
      "Ignored unknown kwarg option direction\n",
      "Ignored unknown kwarg option direction\n"
     ]
    },
    {
     "data": {
      "application/json": {
       "ascii": false,
       "bar_format": null,
       "colour": null,
       "elapsed": 0.0211944580078125,
       "initial": 0,
       "n": 0,
       "ncols": null,
       "nrows": 81,
       "postfix": null,
       "prefix": "#7",
       "rate": null,
       "total": 1,
       "unit": "ba",
       "unit_divisor": 1000,
       "unit_scale": false
      },
      "application/vnd.jupyter.widget-view+json": {
       "model_id": "9057c1f32e1b41dca8af58f3665c7f07",
       "version_major": 2,
       "version_minor": 0
      },
      "text/plain": [
       "#7:   0%|          | 0/1 [00:00<?, ?ba/s]"
      ]
     },
     "metadata": {},
     "output_type": "display_data"
    },
    {
     "name": "stdout",
     "output_type": "stream",
     "text": [
      " "
     ]
    },
    {
     "data": {
      "application/json": {
       "ascii": false,
       "bar_format": null,
       "colour": null,
       "elapsed": 0.02175140380859375,
       "initial": 0,
       "n": 0,
       "ncols": null,
       "nrows": 81,
       "postfix": null,
       "prefix": "#8",
       "rate": null,
       "total": 1,
       "unit": "ba",
       "unit_divisor": 1000,
       "unit_scale": false
      },
      "application/vnd.jupyter.widget-view+json": {
       "model_id": "d0a97858bc8d4142a5e138874ae27a5a",
       "version_major": 2,
       "version_minor": 0
      },
      "text/plain": [
       "#8:   0%|          | 0/1 [00:00<?, ?ba/s]"
      ]
     },
     "metadata": {},
     "output_type": "display_data"
    },
    {
     "name": "stdout",
     "output_type": "stream",
     "text": [
      " "
     ]
    },
    {
     "data": {
      "application/json": {
       "ascii": false,
       "bar_format": null,
       "colour": null,
       "elapsed": 0.0251007080078125,
       "initial": 0,
       "n": 0,
       "ncols": null,
       "nrows": 81,
       "postfix": null,
       "prefix": "#9",
       "rate": null,
       "total": 1,
       "unit": "ba",
       "unit_divisor": 1000,
       "unit_scale": false
      },
      "application/vnd.jupyter.widget-view+json": {
       "model_id": "0e9e638ec0b04969bf3e5476e54456cb",
       "version_major": 2,
       "version_minor": 0
      },
      "text/plain": [
       "#9:   0%|          | 0/1 [00:00<?, ?ba/s]"
      ]
     },
     "metadata": {},
     "output_type": "display_data"
    },
    {
     "name": "stdout",
     "output_type": "stream",
     "text": [
      " "
     ]
    },
    {
     "data": {
      "application/json": {
       "ascii": false,
       "bar_format": null,
       "colour": null,
       "elapsed": 0.020963191986083984,
       "initial": 0,
       "n": 0,
       "ncols": null,
       "nrows": 81,
       "postfix": null,
       "prefix": "#10",
       "rate": null,
       "total": 1,
       "unit": "ba",
       "unit_divisor": 1000,
       "unit_scale": false
      },
      "application/vnd.jupyter.widget-view+json": {
       "model_id": "338ae7286c7d4a04a13374dce57f0e76",
       "version_major": 2,
       "version_minor": 0
      },
      "text/plain": [
       "#10:   0%|          | 0/1 [00:00<?, ?ba/s]"
      ]
     },
     "metadata": {},
     "output_type": "display_data"
    },
    {
     "name": "stdout",
     "output_type": "stream",
     "text": [
      "  "
     ]
    },
    {
     "data": {
      "application/json": {
       "ascii": false,
       "bar_format": null,
       "colour": null,
       "elapsed": 0.018484830856323242,
       "initial": 0,
       "n": 0,
       "ncols": null,
       "nrows": 81,
       "postfix": null,
       "prefix": "#11",
       "rate": null,
       "total": 1,
       "unit": "ba",
       "unit_divisor": 1000,
       "unit_scale": false
      },
      "application/vnd.jupyter.widget-view+json": {
       "model_id": "b12d1716ff4a424399f91b0e6628000f",
       "version_major": 2,
       "version_minor": 0
      },
      "text/plain": [
       "#11:   0%|          | 0/1 [00:00<?, ?ba/s]"
      ]
     },
     "metadata": {},
     "output_type": "display_data"
    },
    {
     "data": {
      "application/json": {
       "ascii": false,
       "bar_format": null,
       "colour": null,
       "elapsed": 0.01990985870361328,
       "initial": 0,
       "n": 0,
       "ncols": null,
       "nrows": 81,
       "postfix": null,
       "prefix": "#12",
       "rate": null,
       "total": 1,
       "unit": "ba",
       "unit_divisor": 1000,
       "unit_scale": false
      },
      "application/vnd.jupyter.widget-view+json": {
       "model_id": "b5ddae6c06e14a7788eb7faf04542e5c",
       "version_major": 2,
       "version_minor": 0
      },
      "text/plain": [
       "#12:   0%|          | 0/1 [00:00<?, ?ba/s]"
      ]
     },
     "metadata": {},
     "output_type": "display_data"
    },
    {
     "name": "stdout",
     "output_type": "stream",
     "text": [
      " "
     ]
    },
    {
     "data": {
      "application/json": {
       "ascii": false,
       "bar_format": null,
       "colour": null,
       "elapsed": 0.018889904022216797,
       "initial": 0,
       "n": 0,
       "ncols": null,
       "nrows": 81,
       "postfix": null,
       "prefix": "#13",
       "rate": null,
       "total": 1,
       "unit": "ba",
       "unit_divisor": 1000,
       "unit_scale": false
      },
      "application/vnd.jupyter.widget-view+json": {
       "model_id": "e7fd9cfe975f4d77a119ea7ec9d431e6",
       "version_major": 2,
       "version_minor": 0
      },
      "text/plain": [
       "#13:   0%|          | 0/1 [00:00<?, ?ba/s]"
      ]
     },
     "metadata": {},
     "output_type": "display_data"
    },
    {
     "name": "stdout",
     "output_type": "stream",
     "text": [
      " "
     ]
    },
    {
     "data": {
      "application/json": {
       "ascii": false,
       "bar_format": null,
       "colour": null,
       "elapsed": 0.020041227340698242,
       "initial": 0,
       "n": 0,
       "ncols": null,
       "nrows": 81,
       "postfix": null,
       "prefix": "#14",
       "rate": null,
       "total": 1,
       "unit": "ba",
       "unit_divisor": 1000,
       "unit_scale": false
      },
      "application/vnd.jupyter.widget-view+json": {
       "model_id": "3ef52beee4e24243a100bc02259bcda6",
       "version_major": 2,
       "version_minor": 0
      },
      "text/plain": [
       "#14:   0%|          | 0/1 [00:00<?, ?ba/s]"
      ]
     },
     "metadata": {},
     "output_type": "display_data"
    },
    {
     "name": "stdout",
     "output_type": "stream",
     "text": [
      " "
     ]
    },
    {
     "data": {
      "application/json": {
       "ascii": false,
       "bar_format": null,
       "colour": null,
       "elapsed": 0.023601531982421875,
       "initial": 0,
       "n": 0,
       "ncols": null,
       "nrows": 81,
       "postfix": null,
       "prefix": "#15",
       "rate": null,
       "total": 1,
       "unit": "ba",
       "unit_divisor": 1000,
       "unit_scale": false
      },
      "application/vnd.jupyter.widget-view+json": {
       "model_id": "ac30697d8df54e83b3e29283c144c46f",
       "version_major": 2,
       "version_minor": 0
      },
      "text/plain": [
       "#15:   0%|          | 0/1 [00:00<?, ?ba/s]"
      ]
     },
     "metadata": {},
     "output_type": "display_data"
    },
    {
     "name": "stdout",
     "output_type": "stream",
     "text": [
      " Ignored unknown kwarg option direction\n",
      "Ignored unknown kwarg option direction\n",
      "Ignored unknown kwarg option direction\n",
      "Ignored unknown kwarg option direction\n",
      "Ignored unknown kwarg option direction\n",
      "Ignored unknown kwarg option direction\n",
      "Ignored unknown kwarg option direction\n",
      " "
     ]
    },
    {
     "data": {
      "application/json": {
       "ascii": false,
       "bar_format": null,
       "colour": null,
       "elapsed": 0.022757530212402344,
       "initial": 0,
       "n": 0,
       "ncols": null,
       "nrows": 81,
       "postfix": null,
       "prefix": "#16",
       "rate": null,
       "total": 1,
       "unit": "ba",
       "unit_divisor": 1000,
       "unit_scale": false
      },
      "application/vnd.jupyter.widget-view+json": {
       "model_id": "69564c5d7fd4459c842e7cc60442777c",
       "version_major": 2,
       "version_minor": 0
      },
      "text/plain": [
       "#16:   0%|          | 0/1 [00:00<?, ?ba/s]"
      ]
     },
     "metadata": {},
     "output_type": "display_data"
    },
    {
     "data": {
      "application/json": {
       "ascii": false,
       "bar_format": null,
       "colour": null,
       "elapsed": 0.0204315185546875,
       "initial": 0,
       "n": 0,
       "ncols": null,
       "nrows": 81,
       "postfix": null,
       "prefix": "#17",
       "rate": null,
       "total": 1,
       "unit": "ba",
       "unit_divisor": 1000,
       "unit_scale": false
      },
      "application/vnd.jupyter.widget-view+json": {
       "model_id": "219d69ed7c114497be635459c43cf5f7",
       "version_major": 2,
       "version_minor": 0
      },
      "text/plain": [
       "#17:   0%|          | 0/1 [00:00<?, ?ba/s]"
      ]
     },
     "metadata": {},
     "output_type": "display_data"
    },
    {
     "name": "stdout",
     "output_type": "stream",
     "text": [
      "  "
     ]
    },
    {
     "data": {
      "application/json": {
       "ascii": false,
       "bar_format": null,
       "colour": null,
       "elapsed": 0.0268707275390625,
       "initial": 0,
       "n": 0,
       "ncols": null,
       "nrows": 81,
       "postfix": null,
       "prefix": "#18",
       "rate": null,
       "total": 1,
       "unit": "ba",
       "unit_divisor": 1000,
       "unit_scale": false
      },
      "application/vnd.jupyter.widget-view+json": {
       "model_id": "65916011062a4bf6b0427fba26525af9",
       "version_major": 2,
       "version_minor": 0
      },
      "text/plain": [
       "#18:   0%|          | 0/1 [00:00<?, ?ba/s]"
      ]
     },
     "metadata": {},
     "output_type": "display_data"
    },
    {
     "data": {
      "application/json": {
       "ascii": false,
       "bar_format": null,
       "colour": null,
       "elapsed": 0.018439769744873047,
       "initial": 0,
       "n": 0,
       "ncols": null,
       "nrows": 81,
       "postfix": null,
       "prefix": "#19",
       "rate": null,
       "total": 1,
       "unit": "ba",
       "unit_divisor": 1000,
       "unit_scale": false
      },
      "application/vnd.jupyter.widget-view+json": {
       "model_id": "e21de47a285347d8b65639091a8dbdb5",
       "version_major": 2,
       "version_minor": 0
      },
      "text/plain": [
       "#19:   0%|          | 0/1 [00:00<?, ?ba/s]"
      ]
     },
     "metadata": {},
     "output_type": "display_data"
    },
    {
     "name": "stdout",
     "output_type": "stream",
     "text": [
      " "
     ]
    },
    {
     "data": {
      "application/json": {
       "ascii": false,
       "bar_format": null,
       "colour": null,
       "elapsed": 0.02176809310913086,
       "initial": 0,
       "n": 0,
       "ncols": null,
       "nrows": 81,
       "postfix": null,
       "prefix": "#20",
       "rate": null,
       "total": 1,
       "unit": "ba",
       "unit_divisor": 1000,
       "unit_scale": false
      },
      "application/vnd.jupyter.widget-view+json": {
       "model_id": "16eeaf8c4d1746ad89219d3054e1a855",
       "version_major": 2,
       "version_minor": 0
      },
      "text/plain": [
       "#20:   0%|          | 0/1 [00:00<?, ?ba/s]"
      ]
     },
     "metadata": {},
     "output_type": "display_data"
    },
    {
     "name": "stdout",
     "output_type": "stream",
     "text": [
      "  "
     ]
    },
    {
     "data": {
      "application/json": {
       "ascii": false,
       "bar_format": null,
       "colour": null,
       "elapsed": 0.0221099853515625,
       "initial": 0,
       "n": 0,
       "ncols": null,
       "nrows": 81,
       "postfix": null,
       "prefix": "#21",
       "rate": null,
       "total": 1,
       "unit": "ba",
       "unit_divisor": 1000,
       "unit_scale": false
      },
      "application/vnd.jupyter.widget-view+json": {
       "model_id": "27908582f4fe412ab1c25ac779337438",
       "version_major": 2,
       "version_minor": 0
      },
      "text/plain": [
       "#21:   0%|          | 0/1 [00:00<?, ?ba/s]"
      ]
     },
     "metadata": {},
     "output_type": "display_data"
    },
    {
     "name": "stdout",
     "output_type": "stream",
     "text": [
      "Ignored unknown kwarg option direction\n",
      "Ignored unknown kwarg option direction\n",
      "Ignored unknown kwarg option direction\n",
      "Ignored unknown kwarg option direction\n",
      "Ignored unknown kwarg option direction\n",
      "Ignored unknown kwarg option direction\n",
      "Ignored unknown kwarg option direction\n",
      "Ignored unknown kwarg option direction\n"
     ]
    },
    {
     "data": {
      "application/json": {
       "ascii": false,
       "bar_format": null,
       "colour": null,
       "elapsed": 0.027688264846801758,
       "initial": 0,
       "n": 0,
       "ncols": null,
       "nrows": 81,
       "postfix": null,
       "prefix": "#22",
       "rate": null,
       "total": 1,
       "unit": "ba",
       "unit_divisor": 1000,
       "unit_scale": false
      },
      "application/vnd.jupyter.widget-view+json": {
       "model_id": "9a1d6bfc67094525be6f0d0b393278de",
       "version_major": 2,
       "version_minor": 0
      },
      "text/plain": [
       "#22:   0%|          | 0/1 [00:00<?, ?ba/s]"
      ]
     },
     "metadata": {},
     "output_type": "display_data"
    },
    {
     "name": "stdout",
     "output_type": "stream",
     "text": [
      " "
     ]
    },
    {
     "data": {
      "application/json": {
       "ascii": false,
       "bar_format": null,
       "colour": null,
       "elapsed": 0.024835824966430664,
       "initial": 0,
       "n": 0,
       "ncols": null,
       "nrows": 81,
       "postfix": null,
       "prefix": "#23",
       "rate": null,
       "total": 1,
       "unit": "ba",
       "unit_divisor": 1000,
       "unit_scale": false
      },
      "application/vnd.jupyter.widget-view+json": {
       "model_id": "6c627ad625b448b7a45a74b6cfba8938",
       "version_major": 2,
       "version_minor": 0
      },
      "text/plain": [
       "#23:   0%|          | 0/1 [00:00<?, ?ba/s]"
      ]
     },
     "metadata": {},
     "output_type": "display_data"
    },
    {
     "name": "stdout",
     "output_type": "stream",
     "text": [
      "  "
     ]
    },
    {
     "data": {
      "application/json": {
       "ascii": false,
       "bar_format": null,
       "colour": null,
       "elapsed": 0.018744230270385742,
       "initial": 0,
       "n": 0,
       "ncols": null,
       "nrows": 81,
       "postfix": null,
       "prefix": "#24",
       "rate": null,
       "total": 1,
       "unit": "ba",
       "unit_divisor": 1000,
       "unit_scale": false
      },
      "application/vnd.jupyter.widget-view+json": {
       "model_id": "52b282058d404ce6819582121678aaec",
       "version_major": 2,
       "version_minor": 0
      },
      "text/plain": [
       "#24:   0%|          | 0/1 [00:00<?, ?ba/s]"
      ]
     },
     "metadata": {},
     "output_type": "display_data"
    },
    {
     "data": {
      "application/json": {
       "ascii": false,
       "bar_format": null,
       "colour": null,
       "elapsed": 0.020568132400512695,
       "initial": 0,
       "n": 0,
       "ncols": null,
       "nrows": 81,
       "postfix": null,
       "prefix": "#25",
       "rate": null,
       "total": 1,
       "unit": "ba",
       "unit_divisor": 1000,
       "unit_scale": false
      },
      "application/vnd.jupyter.widget-view+json": {
       "model_id": "51db21c5320a4df0883caa94bf93a564",
       "version_major": 2,
       "version_minor": 0
      },
      "text/plain": [
       "#25:   0%|          | 0/1 [00:00<?, ?ba/s]"
      ]
     },
     "metadata": {},
     "output_type": "display_data"
    },
    {
     "name": "stdout",
     "output_type": "stream",
     "text": [
      " "
     ]
    },
    {
     "data": {
      "application/json": {
       "ascii": false,
       "bar_format": null,
       "colour": null,
       "elapsed": 0.019943952560424805,
       "initial": 0,
       "n": 0,
       "ncols": null,
       "nrows": 81,
       "postfix": null,
       "prefix": "#26",
       "rate": null,
       "total": 1,
       "unit": "ba",
       "unit_divisor": 1000,
       "unit_scale": false
      },
      "application/vnd.jupyter.widget-view+json": {
       "model_id": "77fc66a75bc649f282f075ed6370da40",
       "version_major": 2,
       "version_minor": 0
      },
      "text/plain": [
       "#26:   0%|          | 0/1 [00:00<?, ?ba/s]"
      ]
     },
     "metadata": {},
     "output_type": "display_data"
    },
    {
     "name": "stdout",
     "output_type": "stream",
     "text": [
      "  "
     ]
    },
    {
     "data": {
      "application/json": {
       "ascii": false,
       "bar_format": null,
       "colour": null,
       "elapsed": 0.02590155601501465,
       "initial": 0,
       "n": 0,
       "ncols": null,
       "nrows": 81,
       "postfix": null,
       "prefix": "#27",
       "rate": null,
       "total": 1,
       "unit": "ba",
       "unit_divisor": 1000,
       "unit_scale": false
      },
      "application/vnd.jupyter.widget-view+json": {
       "model_id": "410bea5041e546348a3b7723290a9065",
       "version_major": 2,
       "version_minor": 0
      },
      "text/plain": [
       "#27:   0%|          | 0/1 [00:00<?, ?ba/s]"
      ]
     },
     "metadata": {},
     "output_type": "display_data"
    },
    {
     "data": {
      "application/json": {
       "ascii": false,
       "bar_format": null,
       "colour": null,
       "elapsed": 0.027718544006347656,
       "initial": 0,
       "n": 0,
       "ncols": null,
       "nrows": 81,
       "postfix": null,
       "prefix": "#28",
       "rate": null,
       "total": 1,
       "unit": "ba",
       "unit_divisor": 1000,
       "unit_scale": false
      },
      "application/vnd.jupyter.widget-view+json": {
       "model_id": "9158c3f402404cc0879933ea961c8f78",
       "version_major": 2,
       "version_minor": 0
      },
      "text/plain": [
       "#28:   0%|          | 0/1 [00:00<?, ?ba/s]"
      ]
     },
     "metadata": {},
     "output_type": "display_data"
    },
    {
     "name": "stdout",
     "output_type": "stream",
     "text": [
      "  "
     ]
    },
    {
     "data": {
      "application/json": {
       "ascii": false,
       "bar_format": null,
       "colour": null,
       "elapsed": 0.01882004737854004,
       "initial": 0,
       "n": 0,
       "ncols": null,
       "nrows": 81,
       "postfix": null,
       "prefix": "#30",
       "rate": null,
       "total": 1,
       "unit": "ba",
       "unit_divisor": 1000,
       "unit_scale": false
      },
      "application/vnd.jupyter.widget-view+json": {
       "model_id": "f8f1084744784ce294551a4b056d925e",
       "version_major": 2,
       "version_minor": 0
      },
      "text/plain": [
       "#30:   0%|          | 0/1 [00:00<?, ?ba/s]"
      ]
     },
     "metadata": {},
     "output_type": "display_data"
    },
    {
     "name": "stdout",
     "output_type": "stream",
     "text": [
      " "
     ]
    },
    {
     "data": {
      "application/json": {
       "ascii": false,
       "bar_format": null,
       "colour": null,
       "elapsed": 0.023228883743286133,
       "initial": 0,
       "n": 0,
       "ncols": null,
       "nrows": 81,
       "postfix": null,
       "prefix": "#29",
       "rate": null,
       "total": 1,
       "unit": "ba",
       "unit_divisor": 1000,
       "unit_scale": false
      },
      "application/vnd.jupyter.widget-view+json": {
       "model_id": "20e7c8dcd17045e8acf269760f84945a",
       "version_major": 2,
       "version_minor": 0
      },
      "text/plain": [
       "#29:   0%|          | 0/1 [00:00<?, ?ba/s]"
      ]
     },
     "metadata": {},
     "output_type": "display_data"
    },
    {
     "data": {
      "application/json": {
       "ascii": false,
       "bar_format": null,
       "colour": null,
       "elapsed": 0.023563623428344727,
       "initial": 0,
       "n": 0,
       "ncols": null,
       "nrows": 81,
       "postfix": null,
       "prefix": "#31",
       "rate": null,
       "total": 1,
       "unit": "ba",
       "unit_divisor": 1000,
       "unit_scale": false
      },
      "application/vnd.jupyter.widget-view+json": {
       "model_id": "27886bb2b0bf427ca7e7cba9ccbe8590",
       "version_major": 2,
       "version_minor": 0
      },
      "text/plain": [
       "#31:   0%|          | 0/1 [00:00<?, ?ba/s]"
      ]
     },
     "metadata": {},
     "output_type": "display_data"
    },
    {
     "name": "stdout",
     "output_type": "stream",
     "text": [
      "Ignored unknown kwarg option direction\n",
      "Ignored unknown kwarg option direction\n",
      "Ignored unknown kwarg option direction\n",
      "Ignored unknown kwarg option direction\n",
      "Ignored unknown kwarg option direction\n",
      "Ignored unknown kwarg option direction\n",
      "Ignored unknown kwarg option direction\n",
      "Ignored unknown kwarg option direction\n"
     ]
    }
   ],
   "source": [
    "dataset = dataset.map(encoder, batched=True, num_proc=CPU_COUNT)"
   ]
  },
  {
   "cell_type": "code",
   "execution_count": 19,
   "id": "5abec43d-543b-4230-bcc0-624433f5b238",
   "metadata": {},
   "outputs": [
    {
     "data": {
      "text/html": [
       "<div>\n",
       "<style scoped>\n",
       "    .dataframe tbody tr th:only-of-type {\n",
       "        vertical-align: middle;\n",
       "    }\n",
       "\n",
       "    .dataframe tbody tr th {\n",
       "        vertical-align: top;\n",
       "    }\n",
       "\n",
       "    .dataframe thead th {\n",
       "        text-align: right;\n",
       "    }\n",
       "</style>\n",
       "<table border=\"1\" class=\"dataframe\">\n",
       "  <thead>\n",
       "    <tr style=\"text-align: right;\">\n",
       "      <th></th>\n",
       "      <th>ID</th>\n",
       "      <th>문장</th>\n",
       "      <th>유형</th>\n",
       "      <th>극성</th>\n",
       "      <th>시제</th>\n",
       "      <th>확실성</th>\n",
       "      <th>label</th>\n",
       "      <th>__index_level_0__</th>\n",
       "      <th>input_ids</th>\n",
       "      <th>attention_mask</th>\n",
       "      <th>labels</th>\n",
       "    </tr>\n",
       "  </thead>\n",
       "  <tbody>\n",
       "    <tr>\n",
       "      <th>0</th>\n",
       "      <td>TRAIN_00000</td>\n",
       "      <td>0.75%포인트 금리 인상은 1994년 이후 28년 만에 처음이다.</td>\n",
       "      <td>사실형</td>\n",
       "      <td>긍정</td>\n",
       "      <td>현재</td>\n",
       "      <td>확실</td>\n",
       "      <td>사실형-긍정-현재-확실</td>\n",
       "      <td>0</td>\n",
       "      <td>[0, 20, 18, 5951, 9, 4648, 4527, 4344, 2073, 7...</td>\n",
       "      <td>[1, 1, 1, 1, 1, 1, 1, 1, 1, 1, 1, 1, 1, 1, 1, ...</td>\n",
       "      <td>0</td>\n",
       "    </tr>\n",
       "    <tr>\n",
       "      <th>1</th>\n",
       "      <td>TRAIN_00001</td>\n",
       "      <td>이어 ＂앞으로 전문가들과 함께 4주 단위로 상황을 재평가할 예정＂이라며 ＂그 이전이...</td>\n",
       "      <td>사실형</td>\n",
       "      <td>긍정</td>\n",
       "      <td>과거</td>\n",
       "      <td>확실</td>\n",
       "      <td>사실형-긍정-과거-확실</td>\n",
       "      <td>1</td>\n",
       "      <td>[0, 3796, 1980, 1388, 6233, 4205, 2031, 2145, ...</td>\n",
       "      <td>[1, 1, 1, 1, 1, 1, 1, 1, 1, 1, 1, 1, 1, 1, 1, ...</td>\n",
       "      <td>1</td>\n",
       "    </tr>\n",
       "    <tr>\n",
       "      <th>2</th>\n",
       "      <td>TRAIN_00002</td>\n",
       "      <td>정부가 고유가 대응을 위해 7월부터 연말까지 유류세 인하 폭을 30%에서 37%까지...</td>\n",
       "      <td>사실형</td>\n",
       "      <td>긍정</td>\n",
       "      <td>미래</td>\n",
       "      <td>확실</td>\n",
       "      <td>사실형-긍정-미래-확실</td>\n",
       "      <td>2</td>\n",
       "      <td>[0, 3659, 2116, 6870, 2116, 4509, 2069, 3627, ...</td>\n",
       "      <td>[1, 1, 1, 1, 1, 1, 1, 1, 1, 1, 1, 1, 1, 1, 1, ...</td>\n",
       "      <td>2</td>\n",
       "    </tr>\n",
       "    <tr>\n",
       "      <th>3</th>\n",
       "      <td>TRAIN_00003</td>\n",
       "      <td>서울시는 올해 3월 즉시 견인 유예시간 60분을 제공하겠다고 밝혔지만, 하루 만에 ...</td>\n",
       "      <td>사실형</td>\n",
       "      <td>긍정</td>\n",
       "      <td>과거</td>\n",
       "      <td>확실</td>\n",
       "      <td>사실형-긍정-과거-확실</td>\n",
       "      <td>3</td>\n",
       "      <td>[0, 5087, 2259, 3753, 23, 2429, 6832, 10947, 1...</td>\n",
       "      <td>[1, 1, 1, 1, 1, 1, 1, 1, 1, 1, 1, 1, 1, 1, 1, ...</td>\n",
       "      <td>1</td>\n",
       "    </tr>\n",
       "    <tr>\n",
       "      <th>4</th>\n",
       "      <td>TRAIN_00004</td>\n",
       "      <td>익사한 자는 사다리에 태워 거꾸로 놓고 소금으로 코를 막아 가득 채운다.</td>\n",
       "      <td>사실형</td>\n",
       "      <td>긍정</td>\n",
       "      <td>현재</td>\n",
       "      <td>확실</td>\n",
       "      <td>사실형-긍정-현재-확실</td>\n",
       "      <td>4</td>\n",
       "      <td>[0, 1505, 2063, 2470, 5105, 16416, 2170, 13920...</td>\n",
       "      <td>[1, 1, 1, 1, 1, 1, 1, 1, 1, 1, 1, 1, 1, 1, 1, ...</td>\n",
       "      <td>0</td>\n",
       "    </tr>\n",
       "    <tr>\n",
       "      <th>...</th>\n",
       "      <td>...</td>\n",
       "      <td>...</td>\n",
       "      <td>...</td>\n",
       "      <td>...</td>\n",
       "      <td>...</td>\n",
       "      <td>...</td>\n",
       "      <td>...</td>\n",
       "      <td>...</td>\n",
       "      <td>...</td>\n",
       "      <td>...</td>\n",
       "      <td>...</td>\n",
       "    </tr>\n",
       "    <tr>\n",
       "      <th>16501</th>\n",
       "      <td>TRAIN_16535</td>\n",
       "      <td>이에 따라 대형 콘서트부터 야외 페스티벌, 실내 공연 등 연이어 오픈 소식이 들려오...</td>\n",
       "      <td>사실형</td>\n",
       "      <td>긍정</td>\n",
       "      <td>현재</td>\n",
       "      <td>확실</td>\n",
       "      <td>사실형-긍정-현재-확실</td>\n",
       "      <td>16535</td>\n",
       "      <td>[0, 1504, 2170, 3653, 4477, 6665, 3797, 8296, ...</td>\n",
       "      <td>[1, 1, 1, 1, 1, 1, 1, 1, 1, 1, 1, 1, 1, 1, 1, ...</td>\n",
       "      <td>0</td>\n",
       "    </tr>\n",
       "    <tr>\n",
       "      <th>16502</th>\n",
       "      <td>TRAIN_16536</td>\n",
       "      <td>＇신동덤＇은 ＇신비한 동물사전＇과 ＇해리 포터＇ 시리즈를 잇는 마법 어드벤처물로, ...</td>\n",
       "      <td>사실형</td>\n",
       "      <td>긍정</td>\n",
       "      <td>과거</td>\n",
       "      <td>확실</td>\n",
       "      <td>사실형-긍정-과거-확실</td>\n",
       "      <td>16536</td>\n",
       "      <td>[0, 3, 9515, 2840, 3, 1497, 3, 7635, 2470, 480...</td>\n",
       "      <td>[1, 1, 1, 1, 1, 1, 1, 1, 1, 1, 1, 1, 1, 1, 1, ...</td>\n",
       "      <td>1</td>\n",
       "    </tr>\n",
       "    <tr>\n",
       "      <th>16503</th>\n",
       "      <td>TRAIN_16537</td>\n",
       "      <td>수족냉증은 어릴 때부터 심했으며 관절은 어디 한 곳이 아니고 목, 어깨, 팔꿈치, ...</td>\n",
       "      <td>사실형</td>\n",
       "      <td>긍정</td>\n",
       "      <td>과거</td>\n",
       "      <td>확실</td>\n",
       "      <td>사실형-긍정-과거-확실</td>\n",
       "      <td>16537</td>\n",
       "      <td>[0, 19261, 2576, 2304, 2073, 8115, 904, 3797, ...</td>\n",
       "      <td>[1, 1, 1, 1, 1, 1, 1, 1, 1, 1, 1, 1, 1, 1, 1, ...</td>\n",
       "      <td>1</td>\n",
       "    </tr>\n",
       "    <tr>\n",
       "      <th>16504</th>\n",
       "      <td>TRAIN_16538</td>\n",
       "      <td>김금희 소설가는 ＂계약서 조정이 그리 어려운가 작가를 격려한다면서 그런 문구 하나 ...</td>\n",
       "      <td>사실형</td>\n",
       "      <td>긍정</td>\n",
       "      <td>과거</td>\n",
       "      <td>확실</td>\n",
       "      <td>사실형-긍정-과거-확실</td>\n",
       "      <td>16538</td>\n",
       "      <td>[0, 648, 2157, 2364, 10173, 2259, 1980, 10456,...</td>\n",
       "      <td>[1, 1, 1, 1, 1, 1, 1, 1, 1, 1, 1, 1, 1, 1, 1, ...</td>\n",
       "      <td>1</td>\n",
       "    </tr>\n",
       "    <tr>\n",
       "      <th>16505</th>\n",
       "      <td>TRAIN_16539</td>\n",
       "      <td>1만명이 넘는 방문자수를 기록한 이번 전시회는 총 77개 작품을 넥슨 사옥을 그대로...</td>\n",
       "      <td>사실형</td>\n",
       "      <td>긍정</td>\n",
       "      <td>과거</td>\n",
       "      <td>불확실</td>\n",
       "      <td>사실형-긍정-과거-불확실</td>\n",
       "      <td>16539</td>\n",
       "      <td>[0, 21, 2154, 2211, 2052, 749, 2259, 20817, 21...</td>\n",
       "      <td>[1, 1, 1, 1, 1, 1, 1, 1, 1, 1, 1, 1, 1, 1, 1, ...</td>\n",
       "      <td>17</td>\n",
       "    </tr>\n",
       "  </tbody>\n",
       "</table>\n",
       "<p>16506 rows × 11 columns</p>\n",
       "</div>"
      ],
      "text/plain": [
       "                ID                                                 문장   유형  \\\n",
       "0      TRAIN_00000              0.75%포인트 금리 인상은 1994년 이후 28년 만에 처음이다.  사실형   \n",
       "1      TRAIN_00001  이어 ＂앞으로 전문가들과 함께 4주 단위로 상황을 재평가할 예정＂이라며 ＂그 이전이...  사실형   \n",
       "2      TRAIN_00002  정부가 고유가 대응을 위해 7월부터 연말까지 유류세 인하 폭을 30%에서 37%까지...  사실형   \n",
       "3      TRAIN_00003  서울시는 올해 3월 즉시 견인 유예시간 60분을 제공하겠다고 밝혔지만, 하루 만에 ...  사실형   \n",
       "4      TRAIN_00004           익사한 자는 사다리에 태워 거꾸로 놓고 소금으로 코를 막아 가득 채운다.  사실형   \n",
       "...            ...                                                ...  ...   \n",
       "16501  TRAIN_16535  이에 따라 대형 콘서트부터 야외 페스티벌, 실내 공연 등 연이어 오픈 소식이 들려오...  사실형   \n",
       "16502  TRAIN_16536  ＇신동덤＇은 ＇신비한 동물사전＇과 ＇해리 포터＇ 시리즈를 잇는 마법 어드벤처물로, ...  사실형   \n",
       "16503  TRAIN_16537  수족냉증은 어릴 때부터 심했으며 관절은 어디 한 곳이 아니고 목, 어깨, 팔꿈치, ...  사실형   \n",
       "16504  TRAIN_16538  김금희 소설가는 ＂계약서 조정이 그리 어려운가 작가를 격려한다면서 그런 문구 하나 ...  사실형   \n",
       "16505  TRAIN_16539  1만명이 넘는 방문자수를 기록한 이번 전시회는 총 77개 작품을 넥슨 사옥을 그대로...  사실형   \n",
       "\n",
       "       극성  시제  확실성          label  __index_level_0__  \\\n",
       "0      긍정  현재   확실   사실형-긍정-현재-확실                  0   \n",
       "1      긍정  과거   확실   사실형-긍정-과거-확실                  1   \n",
       "2      긍정  미래   확실   사실형-긍정-미래-확실                  2   \n",
       "3      긍정  과거   확실   사실형-긍정-과거-확실                  3   \n",
       "4      긍정  현재   확실   사실형-긍정-현재-확실                  4   \n",
       "...    ..  ..  ...            ...                ...   \n",
       "16501  긍정  현재   확실   사실형-긍정-현재-확실              16535   \n",
       "16502  긍정  과거   확실   사실형-긍정-과거-확실              16536   \n",
       "16503  긍정  과거   확실   사실형-긍정-과거-확실              16537   \n",
       "16504  긍정  과거   확실   사실형-긍정-과거-확실              16538   \n",
       "16505  긍정  과거  불확실  사실형-긍정-과거-불확실              16539   \n",
       "\n",
       "                                               input_ids  \\\n",
       "0      [0, 20, 18, 5951, 9, 4648, 4527, 4344, 2073, 7...   \n",
       "1      [0, 3796, 1980, 1388, 6233, 4205, 2031, 2145, ...   \n",
       "2      [0, 3659, 2116, 6870, 2116, 4509, 2069, 3627, ...   \n",
       "3      [0, 5087, 2259, 3753, 23, 2429, 6832, 10947, 1...   \n",
       "4      [0, 1505, 2063, 2470, 5105, 16416, 2170, 13920...   \n",
       "...                                                  ...   \n",
       "16501  [0, 1504, 2170, 3653, 4477, 6665, 3797, 8296, ...   \n",
       "16502  [0, 3, 9515, 2840, 3, 1497, 3, 7635, 2470, 480...   \n",
       "16503  [0, 19261, 2576, 2304, 2073, 8115, 904, 3797, ...   \n",
       "16504  [0, 648, 2157, 2364, 10173, 2259, 1980, 10456,...   \n",
       "16505  [0, 21, 2154, 2211, 2052, 749, 2259, 20817, 21...   \n",
       "\n",
       "                                          attention_mask  labels  \n",
       "0      [1, 1, 1, 1, 1, 1, 1, 1, 1, 1, 1, 1, 1, 1, 1, ...       0  \n",
       "1      [1, 1, 1, 1, 1, 1, 1, 1, 1, 1, 1, 1, 1, 1, 1, ...       1  \n",
       "2      [1, 1, 1, 1, 1, 1, 1, 1, 1, 1, 1, 1, 1, 1, 1, ...       2  \n",
       "3      [1, 1, 1, 1, 1, 1, 1, 1, 1, 1, 1, 1, 1, 1, 1, ...       1  \n",
       "4      [1, 1, 1, 1, 1, 1, 1, 1, 1, 1, 1, 1, 1, 1, 1, ...       0  \n",
       "...                                                  ...     ...  \n",
       "16501  [1, 1, 1, 1, 1, 1, 1, 1, 1, 1, 1, 1, 1, 1, 1, ...       0  \n",
       "16502  [1, 1, 1, 1, 1, 1, 1, 1, 1, 1, 1, 1, 1, 1, 1, ...       1  \n",
       "16503  [1, 1, 1, 1, 1, 1, 1, 1, 1, 1, 1, 1, 1, 1, 1, ...       1  \n",
       "16504  [1, 1, 1, 1, 1, 1, 1, 1, 1, 1, 1, 1, 1, 1, 1, ...       1  \n",
       "16505  [1, 1, 1, 1, 1, 1, 1, 1, 1, 1, 1, 1, 1, 1, 1, ...      17  \n",
       "\n",
       "[16506 rows x 11 columns]"
      ]
     },
     "execution_count": 19,
     "metadata": {},
     "output_type": "execute_result"
    }
   ],
   "source": [
    "df_before_augmented = dataset.to_pandas()\n",
    "df_before_augmented"
   ]
  },
  {
   "cell_type": "code",
   "execution_count": 20,
   "id": "46f6186b-7cf0-447c-9da0-c9a76dad4ef9",
   "metadata": {},
   "outputs": [],
   "source": [
    "class Augmentation :\n",
    "\n",
    "    def __init__(self, tokenizer, max_num, min_num, reduction=0.65, undersampling_ratio=0.65, eval_flag=True) :\n",
    "        self.tokenizer = tokenizer\n",
    "        self.max_num = max_num\n",
    "        self.min_num = min_num\n",
    "        self.reduction = reduction\n",
    "        self.undersampling_ratio = undersampling_ratio\n",
    "        self.punct = [\".\", \";\", \"?\", \":\", \"!\", \",\"]\n",
    "        self.eval_flag = eval_flag\n",
    "\n",
    "    def __call__(self, dataset):\n",
    "        \n",
    "        labels = dataset['label']\n",
    "\n",
    "        # 각 Label별로 Index들을 정리한다.\n",
    "        label_ids = collections.defaultdict(list)\n",
    "        for i, l in enumerate(labels) :\n",
    "            label_ids[l].append(i)\n",
    "\n",
    "        # 각 Label 별로 데이터 크기에 따라서 undersampling, dataaugmentation을 따로 진행한다.\n",
    "        total_id_list = []\n",
    "        for l in label_ids :\n",
    "            id_list = label_ids[l]\n",
    "            previous_size = len(id_list) # 기존 데이터 갯수\n",
    "\n",
    "            # 최소 갯수 보다 많으면 데이터 증강을 하지 않음 (20개)\n",
    "            if previous_size > self.min_num : \n",
    "                if self.eval_flag :\n",
    "                    # validation을 할 때는 이미 Validation을 할 때 20%를 각 Label에서 가져가끼 때문에 그대로\n",
    "                    augmentated_id_list = id_list\n",
    "                else :\n",
    "                    # traina만 할 때는 validation과 같은 환경을 맞추기 위해서 각 전체 데이터 수의 80%만을 선정\n",
    "                    ## 전체 데이터를 다 쓰는 것보다 특정 비율을 가지고 임의로 선택하고 모델들을 앙상블 했을 때 더 좋은 효과를 가질 것이라고 판단\n",
    "                    sample_size = int(len(id_list) * self.reduction)\n",
    "                    augmentated_id_list = random.sample(id_list, sample_size)\n",
    "\n",
    "                # 최대 갯수보다 많으면 (3000개)\n",
    "                if len(augmentated_id_list) > self.max_num : \n",
    "                    # 데이터 수의 80%를 임의 선택\n",
    "                    augmentated_id_list = random.sample(\n",
    "                        augmentated_id_list, \n",
    "                        int(len(augmentated_id_list) * self.undersampling_ratio)\n",
    "                    )\n",
    "\n",
    "                # (index, status) 구조로 저장\n",
    "                # status 0 : 데이터 변형 대상 아님, status : 1 데이터 변형 대상\n",
    "                augmentated_id_list = [(a_id, 0) for a_id in augmentated_id_list]\n",
    "            \n",
    "            # 최소 갯수 보다 많으면 데이터 증강을 진행 (20개)\n",
    "            else :\n",
    "                # 기존 데이터\n",
    "                augmentated_id_list = [(a_id, 0) for a_id in id_list]\n",
    "                # 기존 데이터를 복사 (20개가 넘을 떼 까지)\n",
    "                while len(id_list) < self.min_num :\n",
    "                    id_list = id_list * 2\n",
    "\n",
    "                # 기존 데이터 + 복사된 변형 될 데이터 해서 20개를 맞춘다.\n",
    "                augmentated_id_list = augmentated_id_list + \\\n",
    "                    [(a_id, 1) for a_id in random.sample(id_list, self.min_num - previous_size)]\n",
    "\n",
    "            print('Category : %s \\t Previous size : %d, Current size : %d' %(l, previous_size, len(augmentated_id_list)))\n",
    "\n",
    "            total_id_list.extend(augmentated_id_list)\n",
    "\n",
    "        org_size, add_size = 0, 0\n",
    "        for _, status in total_id_list :\n",
    "            if status == 0 :\n",
    "                org_size += 1\n",
    "            else :\n",
    "                add_size += 1\n",
    "        print('Original data size : %d \\t Augment data size : %d' %(org_size, add_size))\n",
    "\n",
    "        # 데이터 셔플\n",
    "        random.shuffle(total_id_list)\n",
    "            \n",
    "        # huggingface를 사용하기 때문에 datasets class 형식으로 맞춤\n",
    "        total_dataset = []\n",
    "        for i, status in tqdm(total_id_list) :\n",
    "            data = self.augment(dataset[i], status)\n",
    "            total_dataset.append(data)\n",
    "\n",
    "        df = pd.DataFrame(total_dataset)\n",
    "        dataset = Dataset.from_pandas(df)\n",
    "        return dataset\n",
    "\n",
    "    # aeda를 통한 문장 변형\n",
    "    \"\"\" \n",
    "    예시\n",
    "        before : '단 어떤 영웅도 2주 연속 제외되지 않으며 영웅 로테이션은 팬, 선수 등의 의견을 적극 수렴해 시즌 중에도 수정될 수 있다.'\n",
    "        after : '단, 어떤 영웅도 2주 연속 제외되지 않으며 영웅 로테:이션은 팬, 선수 등의 의견을 적극 수렴해 시즌 중에도 수정될 수 있다.'\n",
    "    \"\"\"\n",
    "    def aeda(self, data) :\n",
    "        sentence = data['문장']\n",
    "        # 구두점 삽입 횟수\n",
    "        insert_size = np.random.randint(1, len(sentence) // 5)\n",
    "        \n",
    "        chars = list(sentence)\n",
    "        while insert_size > 0 :\n",
    "            # 구두점 선택\n",
    "            punct_id = np.random.randint(len(self.punct))\n",
    "            punct = self.punct[punct_id]\n",
    "\n",
    "            # 구두점 삽입 위치 선정\n",
    "            insert_id = np.random.randint(len(chars))\n",
    "            # 구두점 삽입\n",
    "            chars = chars[:insert_id] + [punct] + chars[insert_id:]\n",
    "\n",
    "            insert_size -= 1\n",
    "\n",
    "        sentence = ''.join(chars)\n",
    "        data['문장'] = sentence\n",
    "        return data\n",
    "\n",
    "    # 문장 내의 몇몇 단어들을 임의의 단어로 변환\n",
    "    \"\"\"\n",
    "    예시\n",
    "        before : '확실히 백내장 진단을 받았어도 입원 치료를 받을 만큼 특별한 상황이었음을 입증하지 못하면 30만원 이상의 보험금을 받기 어려울 전망이다.'\n",
    "        after : '확실히 백 된장 진단을 받았어도 입원 치료를 받을 만큼 특별한 보잘것없이 운전음을 입증하지 못하면 30으리원 원단의 보험금을 받 고등학생 어려울 전망이다.'\n",
    "    \"\"\"\n",
    "    def change(self, data) :\n",
    "        sentence = data['문장']\n",
    "        # tokenizer를 통해서 index들로 변환\n",
    "        tokens = self.tokenizer.encode(sentence)[1:-1]\n",
    "\n",
    "        # 바꾸는 단어 수 선택 (문장의 길이에 따라서 달라진다.)\n",
    "        change_size = int(len(tokens) * 0.15)\n",
    "        \n",
    "        if change_size > 0 :\n",
    "            change_ids = random.sample(range(len(tokens)), change_size)\n",
    "            for c_id in change_ids :\n",
    "                tokens[c_id] = np.random.randint(len(self.tokenizer))\n",
    "\n",
    "            data['문장'] = self.tokenizer.decode(tokens)\n",
    "        return data\n",
    "\n",
    "    # 문장의 순서 바꾸기\n",
    "    \"\"\"\n",
    "    예시\n",
    "        before : '그렇다면 차천로는 과연 어떤 비석을 두고 이런 말을 했던 걸까.'\n",
    "        after : '비석을 두고 이런 말을 했던 걸까. 그렇다면 차천로는 과연 어떤'\n",
    "    \"\"\"\n",
    "    def reverse(self, data) :\n",
    "        sentence = data['문장']\n",
    "        words = sentence.split(' ')\n",
    "\n",
    "        if len(words) > 5 :   \n",
    "            index = np.random.randint(1, len(words) - 1)\n",
    "            reversed = words[index:] + words[:index]\n",
    "            sentence = ' '.join(reversed)\n",
    "\n",
    "        data['문장'] = sentence\n",
    "        return data\n",
    "\n",
    "    # 문장의 단어 삭제\n",
    "    \"\"\"\n",
    "    예시\n",
    "        before : '이것이 만약 상업적인 의도였다면 이렇게까지 하지 못했을 것이다.'\n",
    "        after : '이것이 만약 상업적인 의도였다면 이렇게까지 하지 것이다.'\n",
    "    \"\"\"\n",
    "    def delete(self, data) :\n",
    "\n",
    "        sentence = data['문장']\n",
    "        words = sentence.split(' ')\n",
    "\n",
    "        if len(words) > 5 :   \n",
    "            word_size = len(words)\n",
    "            # 삭제 단어 횟수 선정 (문장의 길이에 따라서 정해진다.)\n",
    "            del_size = int(word_size * 0.2)\n",
    "            # 삭제 단어 위치 선정\n",
    "            del_indices = random.sample(range(word_size), del_size)\n",
    "\n",
    "            deleted = []\n",
    "            for i, word in enumerate(words) :\n",
    "                if i in del_indices :\n",
    "                    continue\n",
    "                deleted.append(word)\n",
    "\n",
    "            sentence = ' '.join(deleted)\n",
    "\n",
    "        data['문장'] = sentence\n",
    "        return data\n",
    "\n",
    "\n",
    "    def augment(self, data, status) :\n",
    "        if status == 0 :\n",
    "            return data\n",
    "        else :\n",
    "            option = np.random.randint(4)\n",
    "            if option == 0 :\n",
    "                data = self.aeda(data)\n",
    "            elif option == 1 :\n",
    "                data = self.reverse(data)\n",
    "            elif option == 2 :\n",
    "                data = self.delete(data)\n",
    "            else :\n",
    "                data = self.change(data)\n",
    "            \n",
    "            return data\n",
    "\n"
   ]
  },
  {
   "cell_type": "code",
   "execution_count": 21,
   "id": "cf0dabc2-04d8-4ea6-8357-bb63bb233cad",
   "metadata": {},
   "outputs": [],
   "source": [
    "augmentator = Augmentation(\n",
    "    tokenizer=tokenizer,\n",
    "    max_num=MAXIMUM_SIZE, \n",
    "    min_num=MINIMUM_SIZE, \n",
    "    eval_flag=False\n",
    ")"
   ]
  },
  {
   "cell_type": "code",
   "execution_count": 22,
   "id": "38fdfd6c-1bef-4c0a-9ceb-31dfee291442",
   "metadata": {},
   "outputs": [
    {
     "name": "stdout",
     "output_type": "stream",
     "text": [
      "Category : 사실형-긍정-현재-확실 \t Previous size : 4733, Current size : 1999\n",
      "Category : 사실형-긍정-과거-확실 \t Previous size : 7098, Current size : 2998\n",
      "Category : 사실형-긍정-미래-확실 \t Previous size : 648, Current size : 273\n",
      "Category : 추론형-부정-현재-확실 \t Previous size : 93, Current size : 60\n",
      "Category : 예측형-긍정-미래-불확실 \t Previous size : 141, Current size : 59\n",
      "Category : 추론형-긍정-현재-확실 \t Previous size : 1099, Current size : 464\n",
      "Category : 추론형-긍정-과거-확실 \t Previous size : 334, Current size : 141\n",
      "Category : 추론형-긍정-현재-불확실 \t Previous size : 130, Current size : 54\n",
      "Category : 대화형-긍정-미래-확실 \t Previous size : 26, Current size : 16\n",
      "Category : 사실형-미정-현재-확실 \t Previous size : 18, Current size : 20\n",
      "Category : 사실형-부정-과거-확실 \t Previous size : 183, Current size : 76\n",
      "Category : 예측형-부정-과거-확실 \t Previous size : 1, Current size : 20\n",
      "Category : 추론형-긍정-미래-확실 \t Previous size : 204, Current size : 85\n",
      "Category : 사실형-긍정-미래-불확실 \t Previous size : 236, Current size : 99\n",
      "Category : 대화형-긍정-현재-확실 \t Previous size : 255, Current size : 107\n",
      "Category : 사실형-부정-현재-확실 \t Previous size : 174, Current size : 73\n",
      "Category : 대화형-긍정-과거-확실 \t Previous size : 120, Current size : 78\n",
      "Category : 사실형-긍정-과거-불확실 \t Previous size : 143, Current size : 59\n",
      "Category : 사실형-긍정-현재-불확실 \t Previous size : 199, Current size : 83\n",
      "Category : 대화형-긍정-현재-불확실 \t Previous size : 44, Current size : 28\n",
      "Category : 예측형-미정-미래-불확실 \t Previous size : 10, Current size : 20\n",
      "Category : 예측형-긍정-미래-확실 \t Previous size : 57, Current size : 37\n",
      "Category : 추론형-부정-미래-확실 \t Previous size : 7, Current size : 20\n",
      "Category : 사실형-미정-미래-확실 \t Previous size : 26, Current size : 16\n",
      "Category : 추론형-긍정-미래-불확실 \t Previous size : 167, Current size : 70\n",
      "Category : 대화형-부정-과거-확실 \t Previous size : 5, Current size : 20\n",
      "Category : 대화형-긍정-미래-불확실 \t Previous size : 22, Current size : 14\n",
      "Category : 대화형-미정-미래-불확실 \t Previous size : 22, Current size : 14\n",
      "Category : 추론형-미정-미래-불확실 \t Previous size : 20, Current size : 20\n",
      "Category : 추론형-부정-미래-불확실 \t Previous size : 5, Current size : 20\n",
      "Category : 추론형-부정-과거-확실 \t Previous size : 16, Current size : 20\n",
      "Category : 사실형-미정-미래-불확실 \t Previous size : 22, Current size : 14\n",
      "Category : 추론형-긍정-과거-불확실 \t Previous size : 48, Current size : 31\n",
      "Category : 예측형-긍정-현재-확실 \t Previous size : 13, Current size : 20\n",
      "Category : 사실형-부정-과거-불확실 \t Previous size : 10, Current size : 20\n",
      "Category : 예측형-긍정-과거-확실 \t Previous size : 10, Current size : 20\n",
      "Category : 예측형-긍정-과거-불확실 \t Previous size : 8, Current size : 20\n",
      "Category : 대화형-긍정-과거-불확실 \t Previous size : 16, Current size : 20\n",
      "Category : 대화형-미정-과거-불확실 \t Previous size : 10, Current size : 20\n",
      "Category : 사실형-부정-미래-확실 \t Previous size : 14, Current size : 20\n",
      "Category : 추론형-부정-현재-불확실 \t Previous size : 9, Current size : 20\n",
      "Category : 사실형-미정-현재-불확실 \t Previous size : 7, Current size : 20\n",
      "Category : 대화형-미정-현재-불확실 \t Previous size : 29, Current size : 18\n",
      "Category : 예측형-부정-현재-불확실 \t Previous size : 1, Current size : 20\n",
      "Category : 대화형-부정-현재-불확실 \t Previous size : 5, Current size : 20\n",
      "Category : 예측형-긍정-현재-불확실 \t Previous size : 7, Current size : 20\n",
      "Category : 추론형-미정-미래-확실 \t Previous size : 2, Current size : 20\n",
      "Category : 사실형-부정-미래-불확실 \t Previous size : 6, Current size : 20\n",
      "Category : 추론형-미정-현재-불확실 \t Previous size : 4, Current size : 20\n",
      "Category : 대화형-부정-현재-확실 \t Previous size : 14, Current size : 20\n",
      "Category : 사실형-미정-과거-확실 \t Previous size : 2, Current size : 20\n",
      "Category : 추론형-부정-과거-불확실 \t Previous size : 6, Current size : 20\n",
      "Category : 사실형-부정-현재-불확실 \t Previous size : 11, Current size : 20\n",
      "Category : 대화형-부정-미래-확실 \t Previous size : 1, Current size : 20\n",
      "Category : 예측형-미정-현재-확실 \t Previous size : 1, Current size : 20\n",
      "Category : 예측형-미정-현재-불확실 \t Previous size : 2, Current size : 20\n",
      "Category : 예측형-부정-미래-불확실 \t Previous size : 3, Current size : 20\n",
      "Category : 대화형-미정-미래-확실 \t Previous size : 2, Current size : 20\n",
      "Category : 대화형-미정-과거-확실 \t Previous size : 1, Current size : 20\n",
      "Category : 추론형-미정-현재-확실 \t Previous size : 2, Current size : 20\n",
      "Category : 대화형-부정-과거-불확실 \t Previous size : 1, Current size : 20\n",
      "Category : 추론형-미정-과거-불확실 \t Previous size : 1, Current size : 20\n",
      "Category : 예측형-미정-미래-확실 \t Previous size : 1, Current size : 20\n",
      "Category : 예측형-미정-과거-확실 \t Previous size : 1, Current size : 20\n",
      "Original data size : 7219 \t Augment data size : 507\n"
     ]
    },
    {
     "data": {
      "application/json": {
       "ascii": false,
       "bar_format": null,
       "colour": null,
       "elapsed": 0.010870933532714844,
       "initial": 0,
       "n": 0,
       "ncols": null,
       "nrows": 81,
       "postfix": null,
       "prefix": "",
       "rate": null,
       "total": 7726,
       "unit": "it",
       "unit_divisor": 1000,
       "unit_scale": false
      },
      "application/vnd.jupyter.widget-view+json": {
       "model_id": "3c8a8b28111743f099a28de8972f41a7",
       "version_major": 2,
       "version_minor": 0
      },
      "text/plain": [
       "  0%|          | 0/7726 [00:00<?, ?it/s]"
      ]
     },
     "metadata": {},
     "output_type": "display_data"
    }
   ],
   "source": [
    "#일단 데이터셋을 클래스별 개수로만 봤을 때, 개수가 조정됨. (클래스별로 개수가 많던 클래스는 개수가 줄었고, 개수가 적던 클래스는 개수가 늘었다.)\n",
    "dataset_augmented = augmentator(dataset)"
   ]
  },
  {
   "attachments": {},
   "cell_type": "markdown",
   "id": "6bd5d021-ab48-4c4d-8b10-4bf08f2535ae",
   "metadata": {},
   "source": [
    "### 증강이 잘 되었는지 확인"
   ]
  },
  {
   "cell_type": "code",
   "execution_count": 23,
   "id": "0d14087a-0af7-4b82-9bf7-6a06c34cb6a7",
   "metadata": {},
   "outputs": [
    {
     "data": {
      "text/html": [
       "<div>\n",
       "<style scoped>\n",
       "    .dataframe tbody tr th:only-of-type {\n",
       "        vertical-align: middle;\n",
       "    }\n",
       "\n",
       "    .dataframe tbody tr th {\n",
       "        vertical-align: top;\n",
       "    }\n",
       "\n",
       "    .dataframe thead th {\n",
       "        text-align: right;\n",
       "    }\n",
       "</style>\n",
       "<table border=\"1\" class=\"dataframe\">\n",
       "  <thead>\n",
       "    <tr style=\"text-align: right;\">\n",
       "      <th></th>\n",
       "      <th>ID</th>\n",
       "      <th>문장</th>\n",
       "      <th>유형</th>\n",
       "      <th>극성</th>\n",
       "      <th>시제</th>\n",
       "      <th>확실성</th>\n",
       "      <th>label</th>\n",
       "      <th>__index_level_0__</th>\n",
       "      <th>input_ids</th>\n",
       "      <th>attention_mask</th>\n",
       "      <th>labels</th>\n",
       "    </tr>\n",
       "  </thead>\n",
       "  <tbody>\n",
       "    <tr>\n",
       "      <th>0</th>\n",
       "      <td>TRAIN_00722</td>\n",
       "      <td>하이 브랜드의 정점에 있는 에르메스의 도산파크 매장 지하에 위치한 레스토랑이다.</td>\n",
       "      <td>사실형</td>\n",
       "      <td>긍정</td>\n",
       "      <td>현재</td>\n",
       "      <td>확실</td>\n",
       "      <td>사실형-긍정-현재-확실</td>\n",
       "      <td>722</td>\n",
       "      <td>[0, 4899, 4183, 2079, 12067, 2170, 1513, 2259,...</td>\n",
       "      <td>[1, 1, 1, 1, 1, 1, 1, 1, 1, 1, 1, 1, 1, 1, 1, ...</td>\n",
       "      <td>0</td>\n",
       "    </tr>\n",
       "    <tr>\n",
       "      <th>1</th>\n",
       "      <td>TRAIN_08482</td>\n",
       "      <td>＂미래의 시간은 우리 세대가 경험한 것과 근본적으로 다를 것＂이라는 선언과 함께 이...</td>\n",
       "      <td>사실형</td>\n",
       "      <td>긍정</td>\n",
       "      <td>현재</td>\n",
       "      <td>확실</td>\n",
       "      <td>사실형-긍정-현재-확실</td>\n",
       "      <td>8482</td>\n",
       "      <td>[0, 1980, 4037, 2079, 3641, 2073, 3616, 4489, ...</td>\n",
       "      <td>[1, 1, 1, 1, 1, 1, 1, 1, 1, 1, 1, 1, 1, 1, 1, ...</td>\n",
       "      <td>0</td>\n",
       "    </tr>\n",
       "    <tr>\n",
       "      <th>2</th>\n",
       "      <td>TRAIN_06286</td>\n",
       "      <td>1994년 이 책으로 이름을 날린 그는 작년 말 이코노미스트지가 같은 제목으로 낸 ...</td>\n",
       "      <td>사실형</td>\n",
       "      <td>긍정</td>\n",
       "      <td>과거</td>\n",
       "      <td>확실</td>\n",
       "      <td>사실형-긍정-과거-확실</td>\n",
       "      <td>6286</td>\n",
       "      <td>[0, 7756, 2440, 1504, 1644, 6233, 3934, 2069, ...</td>\n",
       "      <td>[1, 1, 1, 1, 1, 1, 1, 1, 1, 1, 1, 1, 1, 1, 1, ...</td>\n",
       "      <td>1</td>\n",
       "    </tr>\n",
       "    <tr>\n",
       "      <th>3</th>\n",
       "      <td>TRAIN_01379</td>\n",
       "      <td>반려인들의 1순위 소원은 반려동물이 ＂나 아파＂라는 말이라도 해 줬으면 하는 것이다.</td>\n",
       "      <td>사실형</td>\n",
       "      <td>긍정</td>\n",
       "      <td>현재</td>\n",
       "      <td>확실</td>\n",
       "      <td>사실형-긍정-현재-확실</td>\n",
       "      <td>1379</td>\n",
       "      <td>[0, 8975, 2179, 2031, 2079, 21, 22247, 8365, 2...</td>\n",
       "      <td>[1, 1, 1, 1, 1, 1, 1, 1, 1, 1, 1, 1, 1, 1, 1, ...</td>\n",
       "      <td>0</td>\n",
       "    </tr>\n",
       "    <tr>\n",
       "      <th>4</th>\n",
       "      <td>TRAIN_02644</td>\n",
       "      <td>학점은행제 학습자는 매테 800점 이상 취득 시 20학점, 600점 이상 취득 시 ...</td>\n",
       "      <td>사실형</td>\n",
       "      <td>긍정</td>\n",
       "      <td>현재</td>\n",
       "      <td>확실</td>\n",
       "      <td>사실형-긍정-현재-확실</td>\n",
       "      <td>2644</td>\n",
       "      <td>[0, 12447, 4701, 2021, 4611, 2155, 2259, 1050,...</td>\n",
       "      <td>[1, 1, 1, 1, 1, 1, 1, 1, 1, 1, 1, 1, 1, 1, 1, ...</td>\n",
       "      <td>0</td>\n",
       "    </tr>\n",
       "    <tr>\n",
       "      <th>...</th>\n",
       "      <td>...</td>\n",
       "      <td>...</td>\n",
       "      <td>...</td>\n",
       "      <td>...</td>\n",
       "      <td>...</td>\n",
       "      <td>...</td>\n",
       "      <td>...</td>\n",
       "      <td>...</td>\n",
       "      <td>...</td>\n",
       "      <td>...</td>\n",
       "      <td>...</td>\n",
       "    </tr>\n",
       "    <tr>\n",
       "      <th>7721</th>\n",
       "      <td>TRAIN_09695</td>\n",
       "      <td>농협은 신종 코로나바이러스로부터 농업인과 고객 안전을 지키기 위해 금융혜택 지원 등...</td>\n",
       "      <td>사실형</td>\n",
       "      <td>긍정</td>\n",
       "      <td>과거</td>\n",
       "      <td>확실</td>\n",
       "      <td>사실형-긍정-과거-확실</td>\n",
       "      <td>9695</td>\n",
       "      <td>[0, 6470, 2073, 9310, 1726, 11235, 8023, 4968,...</td>\n",
       "      <td>[1, 1, 1, 1, 1, 1, 1, 1, 1, 1, 1, 1, 1, 1, 1, ...</td>\n",
       "      <td>1</td>\n",
       "    </tr>\n",
       "    <tr>\n",
       "      <th>7722</th>\n",
       "      <td>TRAIN_13383</td>\n",
       "      <td>실제로 두 회사가 거둔 수출액은 지난해 각각 7135억원,  3079억원에 달했다.</td>\n",
       "      <td>사실형</td>\n",
       "      <td>긍정</td>\n",
       "      <td>과거</td>\n",
       "      <td>확실</td>\n",
       "      <td>사실형-긍정-과거-확실</td>\n",
       "      <td>13383</td>\n",
       "      <td>[0, 4539, 864, 3769, 2116, 9443, 17430, 2073, ...</td>\n",
       "      <td>[1, 1, 1, 1, 1, 1, 1, 1, 1, 1, 1, 1, 1, 1, 1, ...</td>\n",
       "      <td>1</td>\n",
       "    </tr>\n",
       "    <tr>\n",
       "      <th>7723</th>\n",
       "      <td>TRAIN_13947</td>\n",
       "      <td>건물 내부는 아치를 반복해 부드러운 분위기를 연출했다.</td>\n",
       "      <td>사실형</td>\n",
       "      <td>긍정</td>\n",
       "      <td>과거</td>\n",
       "      <td>확실</td>\n",
       "      <td>사실형-긍정-과거-확실</td>\n",
       "      <td>13947</td>\n",
       "      <td>[0, 4515, 4492, 2259, 19491, 2138, 5205, 2097,...</td>\n",
       "      <td>[1, 1, 1, 1, 1, 1, 1, 1, 1, 1, 1, 1, 1, 1, 1, 1]</td>\n",
       "      <td>1</td>\n",
       "    </tr>\n",
       "    <tr>\n",
       "      <th>7724</th>\n",
       "      <td>TRAIN_14872</td>\n",
       "      <td>미국의 ＇브레인 이니셔티브(BRAIN Initiative)＇, 유럽연합의 ＇휴먼브레...</td>\n",
       "      <td>사실형</td>\n",
       "      <td>긍정</td>\n",
       "      <td>현재</td>\n",
       "      <td>확실</td>\n",
       "      <td>사실형-긍정-현재-확실</td>\n",
       "      <td>14872</td>\n",
       "      <td>[0, 3666, 2079, 3, 17582, 19418, 2415, 6210, 1...</td>\n",
       "      <td>[1, 1, 1, 1, 1, 1, 1, 1, 1, 1, 1, 1, 1, 1, 1, ...</td>\n",
       "      <td>0</td>\n",
       "    </tr>\n",
       "    <tr>\n",
       "      <th>7725</th>\n",
       "      <td>TRAIN_08003</td>\n",
       "      <td>서울 기생 소춘풍은 단아한 자태와 빼어난 용모로 이름을 떨쳤다.</td>\n",
       "      <td>사실형</td>\n",
       "      <td>긍정</td>\n",
       "      <td>과거</td>\n",
       "      <td>확실</td>\n",
       "      <td>사실형-긍정-과거-확실</td>\n",
       "      <td>8003</td>\n",
       "      <td>[0, 3671, 11077, 1282, 2363, 2533, 2073, 24146...</td>\n",
       "      <td>[1, 1, 1, 1, 1, 1, 1, 1, 1, 1, 1, 1, 1, 1, 1, ...</td>\n",
       "      <td>1</td>\n",
       "    </tr>\n",
       "  </tbody>\n",
       "</table>\n",
       "<p>7726 rows × 11 columns</p>\n",
       "</div>"
      ],
      "text/plain": [
       "               ID                                                 문장   유형  극성  \\\n",
       "0     TRAIN_00722       하이 브랜드의 정점에 있는 에르메스의 도산파크 매장 지하에 위치한 레스토랑이다.  사실형  긍정   \n",
       "1     TRAIN_08482  ＂미래의 시간은 우리 세대가 경험한 것과 근본적으로 다를 것＂이라는 선언과 함께 이...  사실형  긍정   \n",
       "2     TRAIN_06286  1994년 이 책으로 이름을 날린 그는 작년 말 이코노미스트지가 같은 제목으로 낸 ...  사실형  긍정   \n",
       "3     TRAIN_01379    반려인들의 1순위 소원은 반려동물이 ＂나 아파＂라는 말이라도 해 줬으면 하는 것이다.  사실형  긍정   \n",
       "4     TRAIN_02644  학점은행제 학습자는 매테 800점 이상 취득 시 20학점, 600점 이상 취득 시 ...  사실형  긍정   \n",
       "...           ...                                                ...  ...  ..   \n",
       "7721  TRAIN_09695  농협은 신종 코로나바이러스로부터 농업인과 고객 안전을 지키기 위해 금융혜택 지원 등...  사실형  긍정   \n",
       "7722  TRAIN_13383     실제로 두 회사가 거둔 수출액은 지난해 각각 7135억원,  3079억원에 달했다.  사실형  긍정   \n",
       "7723  TRAIN_13947                     건물 내부는 아치를 반복해 부드러운 분위기를 연출했다.  사실형  긍정   \n",
       "7724  TRAIN_14872  미국의 ＇브레인 이니셔티브(BRAIN Initiative)＇, 유럽연합의 ＇휴먼브레...  사실형  긍정   \n",
       "7725  TRAIN_08003                서울 기생 소춘풍은 단아한 자태와 빼어난 용모로 이름을 떨쳤다.  사실형  긍정   \n",
       "\n",
       "      시제 확실성         label  __index_level_0__  \\\n",
       "0     현재  확실  사실형-긍정-현재-확실                722   \n",
       "1     현재  확실  사실형-긍정-현재-확실               8482   \n",
       "2     과거  확실  사실형-긍정-과거-확실               6286   \n",
       "3     현재  확실  사실형-긍정-현재-확실               1379   \n",
       "4     현재  확실  사실형-긍정-현재-확실               2644   \n",
       "...   ..  ..           ...                ...   \n",
       "7721  과거  확실  사실형-긍정-과거-확실               9695   \n",
       "7722  과거  확실  사실형-긍정-과거-확실              13383   \n",
       "7723  과거  확실  사실형-긍정-과거-확실              13947   \n",
       "7724  현재  확실  사실형-긍정-현재-확실              14872   \n",
       "7725  과거  확실  사실형-긍정-과거-확실               8003   \n",
       "\n",
       "                                              input_ids  \\\n",
       "0     [0, 4899, 4183, 2079, 12067, 2170, 1513, 2259,...   \n",
       "1     [0, 1980, 4037, 2079, 3641, 2073, 3616, 4489, ...   \n",
       "2     [0, 7756, 2440, 1504, 1644, 6233, 3934, 2069, ...   \n",
       "3     [0, 8975, 2179, 2031, 2079, 21, 22247, 8365, 2...   \n",
       "4     [0, 12447, 4701, 2021, 4611, 2155, 2259, 1050,...   \n",
       "...                                                 ...   \n",
       "7721  [0, 6470, 2073, 9310, 1726, 11235, 8023, 4968,...   \n",
       "7722  [0, 4539, 864, 3769, 2116, 9443, 17430, 2073, ...   \n",
       "7723  [0, 4515, 4492, 2259, 19491, 2138, 5205, 2097,...   \n",
       "7724  [0, 3666, 2079, 3, 17582, 19418, 2415, 6210, 1...   \n",
       "7725  [0, 3671, 11077, 1282, 2363, 2533, 2073, 24146...   \n",
       "\n",
       "                                         attention_mask  labels  \n",
       "0     [1, 1, 1, 1, 1, 1, 1, 1, 1, 1, 1, 1, 1, 1, 1, ...       0  \n",
       "1     [1, 1, 1, 1, 1, 1, 1, 1, 1, 1, 1, 1, 1, 1, 1, ...       0  \n",
       "2     [1, 1, 1, 1, 1, 1, 1, 1, 1, 1, 1, 1, 1, 1, 1, ...       1  \n",
       "3     [1, 1, 1, 1, 1, 1, 1, 1, 1, 1, 1, 1, 1, 1, 1, ...       0  \n",
       "4     [1, 1, 1, 1, 1, 1, 1, 1, 1, 1, 1, 1, 1, 1, 1, ...       0  \n",
       "...                                                 ...     ...  \n",
       "7721  [1, 1, 1, 1, 1, 1, 1, 1, 1, 1, 1, 1, 1, 1, 1, ...       1  \n",
       "7722  [1, 1, 1, 1, 1, 1, 1, 1, 1, 1, 1, 1, 1, 1, 1, ...       1  \n",
       "7723   [1, 1, 1, 1, 1, 1, 1, 1, 1, 1, 1, 1, 1, 1, 1, 1]       1  \n",
       "7724  [1, 1, 1, 1, 1, 1, 1, 1, 1, 1, 1, 1, 1, 1, 1, ...       0  \n",
       "7725  [1, 1, 1, 1, 1, 1, 1, 1, 1, 1, 1, 1, 1, 1, 1, ...       1  \n",
       "\n",
       "[7726 rows x 11 columns]"
      ]
     },
     "execution_count": 23,
     "metadata": {},
     "output_type": "execute_result"
    }
   ],
   "source": [
    "df_augmented = dataset_augmented.to_pandas()\n",
    "df_augmented"
   ]
  },
  {
   "cell_type": "code",
   "execution_count": 24,
   "id": "3fda7841-0013-470f-ba53-2355eac46d21",
   "metadata": {},
   "outputs": [
    {
     "data": {
      "text/plain": [
       "<AxesSubplot:xlabel='labels', ylabel='Count'>"
      ]
     },
     "execution_count": 24,
     "metadata": {},
     "output_type": "execute_result"
    },
    {
     "data": {
      "image/png": "[encoded data removed]",
      "text/plain": [
       "<Figure size 864x576 with 1 Axes>"
      ]
     },
     "metadata": {
      "needs_background": "light"
     },
     "output_type": "display_data"
    }
   ],
   "source": [
    "#개수에 대한 변화 - 그래프 그려서 previous 와 current 의 차이를 보여주기\n",
    "import seaborn as sns\n",
    "import matplotlib.pyplot as plt\n",
    "plt.figure(figsize = (12,8))\n",
    "\n",
    "sns.histplot(x=df_before_augmented['labels'], kde= True, stat='count', color='red') #before"
   ]
  },
  {
   "cell_type": "code",
   "execution_count": 25,
   "id": "0352e574-6323-443e-95b2-1c4e67823ceb",
   "metadata": {},
   "outputs": [
    {
     "data": {
      "text/plain": [
       "<AxesSubplot:xlabel='labels', ylabel='Count'>"
      ]
     },
     "execution_count": 25,
     "metadata": {},
     "output_type": "execute_result"
    },
    {
     "data": {
      "image/png": "[encoded data removed]",
      "text/plain": [
       "<Figure size 864x576 with 1 Axes>"
      ]
     },
     "metadata": {
      "needs_background": "light"
     },
     "output_type": "display_data"
    }
   ],
   "source": [
    "plt.figure(figsize = (12,8))\n",
    "\n",
    "sns.histplot(x=df_augmented['labels'], kde= True, stat='count') #after"
   ]
  },
  {
   "cell_type": "code",
   "execution_count": 26,
   "id": "bc873f6b-1da2-4f29-ac26-1676bc93415f",
   "metadata": {},
   "outputs": [
    {
     "data": {
      "text/plain": [
       "<AxesSubplot:xlabel='labels', ylabel='Count'>"
      ]
     },
     "execution_count": 26,
     "metadata": {},
     "output_type": "execute_result"
    },
    {
     "data": {
      "image/png": "[encoded data removed]",
      "text/plain": [
       "<Figure size 1080x576 with 1 Axes>"
      ]
     },
     "metadata": {
      "needs_background": "light"
     },
     "output_type": "display_data"
    }
   ],
   "source": [
    "plt.figure(figsize = (15,8)) #2개 같이 한 번에 그림\n",
    "\n",
    "sns.histplot(x=df_before_augmented['labels'], kde= True, stat='count', color='red') #before\n",
    "sns.histplot(x=df_augmented['labels'], kde= True, stat='count') #after"
   ]
  },
  {
   "cell_type": "code",
   "execution_count": 27,
   "id": "e4d2366e-e02f-4b3c-a258-dd4a37b65413",
   "metadata": {},
   "outputs": [
    {
     "data": {
      "text/html": [
       "<div>\n",
       "<style scoped>\n",
       "    .dataframe tbody tr th:only-of-type {\n",
       "        vertical-align: middle;\n",
       "    }\n",
       "\n",
       "    .dataframe tbody tr th {\n",
       "        vertical-align: top;\n",
       "    }\n",
       "\n",
       "    .dataframe thead th {\n",
       "        text-align: right;\n",
       "    }\n",
       "</style>\n",
       "<table border=\"1\" class=\"dataframe\">\n",
       "  <thead>\n",
       "    <tr style=\"text-align: right;\">\n",
       "      <th></th>\n",
       "      <th>ID</th>\n",
       "      <th>문장</th>\n",
       "      <th>유형</th>\n",
       "      <th>극성</th>\n",
       "      <th>시제</th>\n",
       "      <th>확실성</th>\n",
       "      <th>label</th>\n",
       "      <th>__index_level_0__</th>\n",
       "      <th>input_ids</th>\n",
       "      <th>attention_mask</th>\n",
       "      <th>labels</th>\n",
       "    </tr>\n",
       "  </thead>\n",
       "  <tbody>\n",
       "    <tr>\n",
       "      <th>112</th>\n",
       "      <td>TRAIN_15844</td>\n",
       "      <td>아직은 있어 전반적인 로드맵을 그리는 수준으로 향후 적합한 게임들이 갈라게임즈를 통...</td>\n",
       "      <td>예측형</td>\n",
       "      <td>미정</td>\n",
       "      <td>과거</td>\n",
       "      <td>확실</td>\n",
       "      <td>예측형-미정-과거-확실</td>\n",
       "      <td>15844</td>\n",
       "      <td>[0, 3919, 2073, 6209, 4474, 2170, 1513, 2051, ...</td>\n",
       "      <td>[1, 1, 1, 1, 1, 1, 1, 1, 1, 1, 1, 1, 1, 1, 1, ...</td>\n",
       "      <td>63</td>\n",
       "    </tr>\n",
       "    <tr>\n",
       "      <th>215</th>\n",
       "      <td>TRAIN_15844</td>\n",
       "      <td>아직썸 이스포츠에 있어 전반적인 로드맵 표기 그리는 수준으로 향후 류중일포츠에 적합...</td>\n",
       "      <td>예측형</td>\n",
       "      <td>미정</td>\n",
       "      <td>과거</td>\n",
       "      <td>확실</td>\n",
       "      <td>예측형-미정-과거-확실</td>\n",
       "      <td>15844</td>\n",
       "      <td>[0, 3919, 2073, 6209, 4474, 2170, 1513, 2051, ...</td>\n",
       "      <td>[1, 1, 1, 1, 1, 1, 1, 1, 1, 1, 1, 1, 1, 1, 1, ...</td>\n",
       "      <td>63</td>\n",
       "    </tr>\n",
       "    <tr>\n",
       "      <th>929</th>\n",
       "      <td>TRAIN_15844</td>\n",
       "      <td>아직은 이스포츠에 있어 전반적인 로드맵을 수준으로 향후 이스포츠에 적합한 게임들이 ...</td>\n",
       "      <td>예측형</td>\n",
       "      <td>미정</td>\n",
       "      <td>과거</td>\n",
       "      <td>확실</td>\n",
       "      <td>예측형-미정-과거-확실</td>\n",
       "      <td>15844</td>\n",
       "      <td>[0, 3919, 2073, 6209, 4474, 2170, 1513, 2051, ...</td>\n",
       "      <td>[1, 1, 1, 1, 1, 1, 1, 1, 1, 1, 1, 1, 1, 1, 1, ...</td>\n",
       "      <td>63</td>\n",
       "    </tr>\n",
       "    <tr>\n",
       "      <th>986</th>\n",
       "      <td>TRAIN_15844</td>\n",
       "      <td>아직;은 이스포츠에 있어? 전반적인 로드맵을 그리는.. 수준으로 ;향?후 !,이스포...</td>\n",
       "      <td>예측형</td>\n",
       "      <td>미정</td>\n",
       "      <td>과거</td>\n",
       "      <td>확실</td>\n",
       "      <td>예측형-미정-과거-확실</td>\n",
       "      <td>15844</td>\n",
       "      <td>[0, 3919, 2073, 6209, 4474, 2170, 1513, 2051, ...</td>\n",
       "      <td>[1, 1, 1, 1, 1, 1, 1, 1, 1, 1, 1, 1, 1, 1, 1, ...</td>\n",
       "      <td>63</td>\n",
       "    </tr>\n",
       "    <tr>\n",
       "      <th>1773</th>\n",
       "      <td>TRAIN_15844</td>\n",
       "      <td>아직은 이스포츠에 있어 전반적인 로드맵 소생 그리 역관 수준으로 향후 이스포츠 튕겨...</td>\n",
       "      <td>예측형</td>\n",
       "      <td>미정</td>\n",
       "      <td>과거</td>\n",
       "      <td>확실</td>\n",
       "      <td>예측형-미정-과거-확실</td>\n",
       "      <td>15844</td>\n",
       "      <td>[0, 3919, 2073, 6209, 4474, 2170, 1513, 2051, ...</td>\n",
       "      <td>[1, 1, 1, 1, 1, 1, 1, 1, 1, 1, 1, 1, 1, 1, 1, ...</td>\n",
       "      <td>63</td>\n",
       "    </tr>\n",
       "    <tr>\n",
       "      <th>1997</th>\n",
       "      <td>TRAIN_15844</td>\n",
       "      <td>아직은 이스포츠에 있어 전반적인 로드맵을 그리는 수준으로 향후 이스포츠에 적합한 게...</td>\n",
       "      <td>예측형</td>\n",
       "      <td>미정</td>\n",
       "      <td>과거</td>\n",
       "      <td>확실</td>\n",
       "      <td>예측형-미정-과거-확실</td>\n",
       "      <td>15844</td>\n",
       "      <td>[0, 3919, 2073, 6209, 4474, 2170, 1513, 2051, ...</td>\n",
       "      <td>[1, 1, 1, 1, 1, 1, 1, 1, 1, 1, 1, 1, 1, 1, 1, ...</td>\n",
       "      <td>63</td>\n",
       "    </tr>\n",
       "    <tr>\n",
       "      <th>2287</th>\n",
       "      <td>TRAIN_15844</td>\n",
       "      <td>계속 공개될 것이다. 아직은 이스포츠에 있어 전반적인 로드맵을 그리는 수준으로 향후...</td>\n",
       "      <td>예측형</td>\n",
       "      <td>미정</td>\n",
       "      <td>과거</td>\n",
       "      <td>확실</td>\n",
       "      <td>예측형-미정-과거-확실</td>\n",
       "      <td>15844</td>\n",
       "      <td>[0, 3919, 2073, 6209, 4474, 2170, 1513, 2051, ...</td>\n",
       "      <td>[1, 1, 1, 1, 1, 1, 1, 1, 1, 1, 1, 1, 1, 1, 1, ...</td>\n",
       "      <td>63</td>\n",
       "    </tr>\n",
       "    <tr>\n",
       "      <th>3118</th>\n",
       "      <td>TRAIN_15844</td>\n",
       "      <td>아직은 이.스포츠에 있어 전반적인 로드맵을 그리는 수준으로 향!후 이스포츠에 적합한...</td>\n",
       "      <td>예측형</td>\n",
       "      <td>미정</td>\n",
       "      <td>과거</td>\n",
       "      <td>확실</td>\n",
       "      <td>예측형-미정-과거-확실</td>\n",
       "      <td>15844</td>\n",
       "      <td>[0, 3919, 2073, 6209, 4474, 2170, 1513, 2051, ...</td>\n",
       "      <td>[1, 1, 1, 1, 1, 1, 1, 1, 1, 1, 1, 1, 1, 1, 1, ...</td>\n",
       "      <td>63</td>\n",
       "    </tr>\n",
       "    <tr>\n",
       "      <th>3178</th>\n",
       "      <td>TRAIN_15844</td>\n",
       "      <td>아직은 이스포츠에 투쟁어 전반 강했 로드맵을 그리는 거머쥐으로 향후 이스포츠에 적합...</td>\n",
       "      <td>예측형</td>\n",
       "      <td>미정</td>\n",
       "      <td>과거</td>\n",
       "      <td>확실</td>\n",
       "      <td>예측형-미정-과거-확실</td>\n",
       "      <td>15844</td>\n",
       "      <td>[0, 3919, 2073, 6209, 4474, 2170, 1513, 2051, ...</td>\n",
       "      <td>[1, 1, 1, 1, 1, 1, 1, 1, 1, 1, 1, 1, 1, 1, 1, ...</td>\n",
       "      <td>63</td>\n",
       "    </tr>\n",
       "    <tr>\n",
       "      <th>3528</th>\n",
       "      <td>TRAIN_15844</td>\n",
       "      <td>아직은 이스포츠에 있어 전반적인 암행을 그리는 수준으로 향후 로이시오에 적합한 게임...</td>\n",
       "      <td>예측형</td>\n",
       "      <td>미정</td>\n",
       "      <td>과거</td>\n",
       "      <td>확실</td>\n",
       "      <td>예측형-미정-과거-확실</td>\n",
       "      <td>15844</td>\n",
       "      <td>[0, 3919, 2073, 6209, 4474, 2170, 1513, 2051, ...</td>\n",
       "      <td>[1, 1, 1, 1, 1, 1, 1, 1, 1, 1, 1, 1, 1, 1, 1, ...</td>\n",
       "      <td>63</td>\n",
       "    </tr>\n",
       "    <tr>\n",
       "      <th>3900</th>\n",
       "      <td>TRAIN_15844</td>\n",
       "      <td>게임들이 갈라게임즈를 통해 계속 공개될 것이다. 아직은 이스포츠에 있어 전반적인 로...</td>\n",
       "      <td>예측형</td>\n",
       "      <td>미정</td>\n",
       "      <td>과거</td>\n",
       "      <td>확실</td>\n",
       "      <td>예측형-미정-과거-확실</td>\n",
       "      <td>15844</td>\n",
       "      <td>[0, 3919, 2073, 6209, 4474, 2170, 1513, 2051, ...</td>\n",
       "      <td>[1, 1, 1, 1, 1, 1, 1, 1, 1, 1, 1, 1, 1, 1, 1, ...</td>\n",
       "      <td>63</td>\n",
       "    </tr>\n",
       "    <tr>\n",
       "      <th>4001</th>\n",
       "      <td>TRAIN_15844</td>\n",
       "      <td>향후 이스포츠에 적합한 게임들이 갈라게임즈를 통해 계속 공개될 것이다. 아직은 이스...</td>\n",
       "      <td>예측형</td>\n",
       "      <td>미정</td>\n",
       "      <td>과거</td>\n",
       "      <td>확실</td>\n",
       "      <td>예측형-미정-과거-확실</td>\n",
       "      <td>15844</td>\n",
       "      <td>[0, 3919, 2073, 6209, 4474, 2170, 1513, 2051, ...</td>\n",
       "      <td>[1, 1, 1, 1, 1, 1, 1, 1, 1, 1, 1, 1, 1, 1, 1, ...</td>\n",
       "      <td>63</td>\n",
       "    </tr>\n",
       "    <tr>\n",
       "      <th>4026</th>\n",
       "      <td>TRAIN_15844</td>\n",
       "      <td>아직은 이스포츠에 있어 전반적인 로드맵;을 그리는 :수준으로 향?후 이스포츠에 적합...</td>\n",
       "      <td>예측형</td>\n",
       "      <td>미정</td>\n",
       "      <td>과거</td>\n",
       "      <td>확실</td>\n",
       "      <td>예측형-미정-과거-확실</td>\n",
       "      <td>15844</td>\n",
       "      <td>[0, 3919, 2073, 6209, 4474, 2170, 1513, 2051, ...</td>\n",
       "      <td>[1, 1, 1, 1, 1, 1, 1, 1, 1, 1, 1, 1, 1, 1, 1, ...</td>\n",
       "      <td>63</td>\n",
       "    </tr>\n",
       "    <tr>\n",
       "      <th>4132</th>\n",
       "      <td>TRAIN_15844</td>\n",
       "      <td>그리는 수준으로 향후 이스포츠에 적합한 게임들이 갈라게임즈를 통해 계속 공개될 것이...</td>\n",
       "      <td>예측형</td>\n",
       "      <td>미정</td>\n",
       "      <td>과거</td>\n",
       "      <td>확실</td>\n",
       "      <td>예측형-미정-과거-확실</td>\n",
       "      <td>15844</td>\n",
       "      <td>[0, 3919, 2073, 6209, 4474, 2170, 1513, 2051, ...</td>\n",
       "      <td>[1, 1, 1, 1, 1, 1, 1, 1, 1, 1, 1, 1, 1, 1, 1, ...</td>\n",
       "      <td>63</td>\n",
       "    </tr>\n",
       "    <tr>\n",
       "      <th>4637</th>\n",
       "      <td>TRAIN_15844</td>\n",
       "      <td>아직은 이스포츠에 있어 로드맵을 그리는 향후 이스포츠에 적합한 게임들이 갈라게임즈를...</td>\n",
       "      <td>예측형</td>\n",
       "      <td>미정</td>\n",
       "      <td>과거</td>\n",
       "      <td>확실</td>\n",
       "      <td>예측형-미정-과거-확실</td>\n",
       "      <td>15844</td>\n",
       "      <td>[0, 3919, 2073, 6209, 4474, 2170, 1513, 2051, ...</td>\n",
       "      <td>[1, 1, 1, 1, 1, 1, 1, 1, 1, 1, 1, 1, 1, 1, 1, ...</td>\n",
       "      <td>63</td>\n",
       "    </tr>\n",
       "    <tr>\n",
       "      <th>4762</th>\n",
       "      <td>TRAIN_15844</td>\n",
       "      <td>이스포츠에 있어 전반적인 로드맵을 수준으로 향후 이스포츠에 적합한 게임들이 갈라게임...</td>\n",
       "      <td>예측형</td>\n",
       "      <td>미정</td>\n",
       "      <td>과거</td>\n",
       "      <td>확실</td>\n",
       "      <td>예측형-미정-과거-확실</td>\n",
       "      <td>15844</td>\n",
       "      <td>[0, 3919, 2073, 6209, 4474, 2170, 1513, 2051, ...</td>\n",
       "      <td>[1, 1, 1, 1, 1, 1, 1, 1, 1, 1, 1, 1, 1, 1, 1, ...</td>\n",
       "      <td>63</td>\n",
       "    </tr>\n",
       "    <tr>\n",
       "      <th>4951</th>\n",
       "      <td>TRAIN_15844</td>\n",
       "      <td>아직은 있어 전반적인 로드맵을 그리는 수준으로 향후 이스포츠에 게임들이 갈라게임즈를...</td>\n",
       "      <td>예측형</td>\n",
       "      <td>미정</td>\n",
       "      <td>과거</td>\n",
       "      <td>확실</td>\n",
       "      <td>예측형-미정-과거-확실</td>\n",
       "      <td>15844</td>\n",
       "      <td>[0, 3919, 2073, 6209, 4474, 2170, 1513, 2051, ...</td>\n",
       "      <td>[1, 1, 1, 1, 1, 1, 1, 1, 1, 1, 1, 1, 1, 1, 1, ...</td>\n",
       "      <td>63</td>\n",
       "    </tr>\n",
       "    <tr>\n",
       "      <th>5045</th>\n",
       "      <td>TRAIN_15844</td>\n",
       "      <td>아직은 이스 뷔 들리 국론어 전반적인 로드맵을 그리RE 수준으로 향후 이스포츠에 적...</td>\n",
       "      <td>예측형</td>\n",
       "      <td>미정</td>\n",
       "      <td>과거</td>\n",
       "      <td>확실</td>\n",
       "      <td>예측형-미정-과거-확실</td>\n",
       "      <td>15844</td>\n",
       "      <td>[0, 3919, 2073, 6209, 4474, 2170, 1513, 2051, ...</td>\n",
       "      <td>[1, 1, 1, 1, 1, 1, 1, 1, 1, 1, 1, 1, 1, 1, 1, ...</td>\n",
       "      <td>63</td>\n",
       "    </tr>\n",
       "    <tr>\n",
       "      <th>5153</th>\n",
       "      <td>TRAIN_15844</td>\n",
       "      <td>아직은 이스포츠에 있어질러적인 로드맵을튀는 수준 특별히 향후 이스포츠에 적합 쏟아져...</td>\n",
       "      <td>예측형</td>\n",
       "      <td>미정</td>\n",
       "      <td>과거</td>\n",
       "      <td>확실</td>\n",
       "      <td>예측형-미정-과거-확실</td>\n",
       "      <td>15844</td>\n",
       "      <td>[0, 3919, 2073, 6209, 4474, 2170, 1513, 2051, ...</td>\n",
       "      <td>[1, 1, 1, 1, 1, 1, 1, 1, 1, 1, 1, 1, 1, 1, 1, ...</td>\n",
       "      <td>63</td>\n",
       "    </tr>\n",
       "    <tr>\n",
       "      <th>6737</th>\n",
       "      <td>TRAIN_15844</td>\n",
       "      <td>아직은 이스포츠에 있어 전반적인 로드맵 일지 그리는 수준으로 향후 이스포츠에 적합한...</td>\n",
       "      <td>예측형</td>\n",
       "      <td>미정</td>\n",
       "      <td>과거</td>\n",
       "      <td>확실</td>\n",
       "      <td>예측형-미정-과거-확실</td>\n",
       "      <td>15844</td>\n",
       "      <td>[0, 3919, 2073, 6209, 4474, 2170, 1513, 2051, ...</td>\n",
       "      <td>[1, 1, 1, 1, 1, 1, 1, 1, 1, 1, 1, 1, 1, 1, 1, ...</td>\n",
       "      <td>63</td>\n",
       "    </tr>\n",
       "  </tbody>\n",
       "</table>\n",
       "</div>"
      ],
      "text/plain": [
       "               ID                                                 문장   유형  극성  \\\n",
       "112   TRAIN_15844  아직은 있어 전반적인 로드맵을 그리는 수준으로 향후 적합한 게임들이 갈라게임즈를 통...  예측형  미정   \n",
       "215   TRAIN_15844  아직썸 이스포츠에 있어 전반적인 로드맵 표기 그리는 수준으로 향후 류중일포츠에 적합...  예측형  미정   \n",
       "929   TRAIN_15844  아직은 이스포츠에 있어 전반적인 로드맵을 수준으로 향후 이스포츠에 적합한 게임들이 ...  예측형  미정   \n",
       "986   TRAIN_15844  아직;은 이스포츠에 있어? 전반적인 로드맵을 그리는.. 수준으로 ;향?후 !,이스포...  예측형  미정   \n",
       "1773  TRAIN_15844  아직은 이스포츠에 있어 전반적인 로드맵 소생 그리 역관 수준으로 향후 이스포츠 튕겨...  예측형  미정   \n",
       "1997  TRAIN_15844  아직은 이스포츠에 있어 전반적인 로드맵을 그리는 수준으로 향후 이스포츠에 적합한 게...  예측형  미정   \n",
       "2287  TRAIN_15844  계속 공개될 것이다. 아직은 이스포츠에 있어 전반적인 로드맵을 그리는 수준으로 향후...  예측형  미정   \n",
       "3118  TRAIN_15844  아직은 이.스포츠에 있어 전반적인 로드맵을 그리는 수준으로 향!후 이스포츠에 적합한...  예측형  미정   \n",
       "3178  TRAIN_15844  아직은 이스포츠에 투쟁어 전반 강했 로드맵을 그리는 거머쥐으로 향후 이스포츠에 적합...  예측형  미정   \n",
       "3528  TRAIN_15844  아직은 이스포츠에 있어 전반적인 암행을 그리는 수준으로 향후 로이시오에 적합한 게임...  예측형  미정   \n",
       "3900  TRAIN_15844  게임들이 갈라게임즈를 통해 계속 공개될 것이다. 아직은 이스포츠에 있어 전반적인 로...  예측형  미정   \n",
       "4001  TRAIN_15844  향후 이스포츠에 적합한 게임들이 갈라게임즈를 통해 계속 공개될 것이다. 아직은 이스...  예측형  미정   \n",
       "4026  TRAIN_15844  아직은 이스포츠에 있어 전반적인 로드맵;을 그리는 :수준으로 향?후 이스포츠에 적합...  예측형  미정   \n",
       "4132  TRAIN_15844  그리는 수준으로 향후 이스포츠에 적합한 게임들이 갈라게임즈를 통해 계속 공개될 것이...  예측형  미정   \n",
       "4637  TRAIN_15844  아직은 이스포츠에 있어 로드맵을 그리는 향후 이스포츠에 적합한 게임들이 갈라게임즈를...  예측형  미정   \n",
       "4762  TRAIN_15844  이스포츠에 있어 전반적인 로드맵을 수준으로 향후 이스포츠에 적합한 게임들이 갈라게임...  예측형  미정   \n",
       "4951  TRAIN_15844  아직은 있어 전반적인 로드맵을 그리는 수준으로 향후 이스포츠에 게임들이 갈라게임즈를...  예측형  미정   \n",
       "5045  TRAIN_15844  아직은 이스 뷔 들리 국론어 전반적인 로드맵을 그리RE 수준으로 향후 이스포츠에 적...  예측형  미정   \n",
       "5153  TRAIN_15844  아직은 이스포츠에 있어질러적인 로드맵을튀는 수준 특별히 향후 이스포츠에 적합 쏟아져...  예측형  미정   \n",
       "6737  TRAIN_15844  아직은 이스포츠에 있어 전반적인 로드맵 일지 그리는 수준으로 향후 이스포츠에 적합한...  예측형  미정   \n",
       "\n",
       "      시제 확실성         label  __index_level_0__  \\\n",
       "112   과거  확실  예측형-미정-과거-확실              15844   \n",
       "215   과거  확실  예측형-미정-과거-확실              15844   \n",
       "929   과거  확실  예측형-미정-과거-확실              15844   \n",
       "986   과거  확실  예측형-미정-과거-확실              15844   \n",
       "1773  과거  확실  예측형-미정-과거-확실              15844   \n",
       "1997  과거  확실  예측형-미정-과거-확실              15844   \n",
       "2287  과거  확실  예측형-미정-과거-확실              15844   \n",
       "3118  과거  확실  예측형-미정-과거-확실              15844   \n",
       "3178  과거  확실  예측형-미정-과거-확실              15844   \n",
       "3528  과거  확실  예측형-미정-과거-확실              15844   \n",
       "3900  과거  확실  예측형-미정-과거-확실              15844   \n",
       "4001  과거  확실  예측형-미정-과거-확실              15844   \n",
       "4026  과거  확실  예측형-미정-과거-확실              15844   \n",
       "4132  과거  확실  예측형-미정-과거-확실              15844   \n",
       "4637  과거  확실  예측형-미정-과거-확실              15844   \n",
       "4762  과거  확실  예측형-미정-과거-확실              15844   \n",
       "4951  과거  확실  예측형-미정-과거-확실              15844   \n",
       "5045  과거  확실  예측형-미정-과거-확실              15844   \n",
       "5153  과거  확실  예측형-미정-과거-확실              15844   \n",
       "6737  과거  확실  예측형-미정-과거-확실              15844   \n",
       "\n",
       "                                              input_ids  \\\n",
       "112   [0, 3919, 2073, 6209, 4474, 2170, 1513, 2051, ...   \n",
       "215   [0, 3919, 2073, 6209, 4474, 2170, 1513, 2051, ...   \n",
       "929   [0, 3919, 2073, 6209, 4474, 2170, 1513, 2051, ...   \n",
       "986   [0, 3919, 2073, 6209, 4474, 2170, 1513, 2051, ...   \n",
       "1773  [0, 3919, 2073, 6209, 4474, 2170, 1513, 2051, ...   \n",
       "1997  [0, 3919, 2073, 6209, 4474, 2170, 1513, 2051, ...   \n",
       "2287  [0, 3919, 2073, 6209, 4474, 2170, 1513, 2051, ...   \n",
       "3118  [0, 3919, 2073, 6209, 4474, 2170, 1513, 2051, ...   \n",
       "3178  [0, 3919, 2073, 6209, 4474, 2170, 1513, 2051, ...   \n",
       "3528  [0, 3919, 2073, 6209, 4474, 2170, 1513, 2051, ...   \n",
       "3900  [0, 3919, 2073, 6209, 4474, 2170, 1513, 2051, ...   \n",
       "4001  [0, 3919, 2073, 6209, 4474, 2170, 1513, 2051, ...   \n",
       "4026  [0, 3919, 2073, 6209, 4474, 2170, 1513, 2051, ...   \n",
       "4132  [0, 3919, 2073, 6209, 4474, 2170, 1513, 2051, ...   \n",
       "4637  [0, 3919, 2073, 6209, 4474, 2170, 1513, 2051, ...   \n",
       "4762  [0, 3919, 2073, 6209, 4474, 2170, 1513, 2051, ...   \n",
       "4951  [0, 3919, 2073, 6209, 4474, 2170, 1513, 2051, ...   \n",
       "5045  [0, 3919, 2073, 6209, 4474, 2170, 1513, 2051, ...   \n",
       "5153  [0, 3919, 2073, 6209, 4474, 2170, 1513, 2051, ...   \n",
       "6737  [0, 3919, 2073, 6209, 4474, 2170, 1513, 2051, ...   \n",
       "\n",
       "                                         attention_mask  labels  \n",
       "112   [1, 1, 1, 1, 1, 1, 1, 1, 1, 1, 1, 1, 1, 1, 1, ...      63  \n",
       "215   [1, 1, 1, 1, 1, 1, 1, 1, 1, 1, 1, 1, 1, 1, 1, ...      63  \n",
       "929   [1, 1, 1, 1, 1, 1, 1, 1, 1, 1, 1, 1, 1, 1, 1, ...      63  \n",
       "986   [1, 1, 1, 1, 1, 1, 1, 1, 1, 1, 1, 1, 1, 1, 1, ...      63  \n",
       "1773  [1, 1, 1, 1, 1, 1, 1, 1, 1, 1, 1, 1, 1, 1, 1, ...      63  \n",
       "1997  [1, 1, 1, 1, 1, 1, 1, 1, 1, 1, 1, 1, 1, 1, 1, ...      63  \n",
       "2287  [1, 1, 1, 1, 1, 1, 1, 1, 1, 1, 1, 1, 1, 1, 1, ...      63  \n",
       "3118  [1, 1, 1, 1, 1, 1, 1, 1, 1, 1, 1, 1, 1, 1, 1, ...      63  \n",
       "3178  [1, 1, 1, 1, 1, 1, 1, 1, 1, 1, 1, 1, 1, 1, 1, ...      63  \n",
       "3528  [1, 1, 1, 1, 1, 1, 1, 1, 1, 1, 1, 1, 1, 1, 1, ...      63  \n",
       "3900  [1, 1, 1, 1, 1, 1, 1, 1, 1, 1, 1, 1, 1, 1, 1, ...      63  \n",
       "4001  [1, 1, 1, 1, 1, 1, 1, 1, 1, 1, 1, 1, 1, 1, 1, ...      63  \n",
       "4026  [1, 1, 1, 1, 1, 1, 1, 1, 1, 1, 1, 1, 1, 1, 1, ...      63  \n",
       "4132  [1, 1, 1, 1, 1, 1, 1, 1, 1, 1, 1, 1, 1, 1, 1, ...      63  \n",
       "4637  [1, 1, 1, 1, 1, 1, 1, 1, 1, 1, 1, 1, 1, 1, 1, ...      63  \n",
       "4762  [1, 1, 1, 1, 1, 1, 1, 1, 1, 1, 1, 1, 1, 1, 1, ...      63  \n",
       "4951  [1, 1, 1, 1, 1, 1, 1, 1, 1, 1, 1, 1, 1, 1, 1, ...      63  \n",
       "5045  [1, 1, 1, 1, 1, 1, 1, 1, 1, 1, 1, 1, 1, 1, 1, ...      63  \n",
       "5153  [1, 1, 1, 1, 1, 1, 1, 1, 1, 1, 1, 1, 1, 1, 1, ...      63  \n",
       "6737  [1, 1, 1, 1, 1, 1, 1, 1, 1, 1, 1, 1, 1, 1, 1, ...      63  "
      ]
     },
     "execution_count": 27,
     "metadata": {},
     "output_type": "execute_result"
    }
   ],
   "source": [
    "#쓸만한 증강인가? - 클래스를 임의 샘플링해서 눈으로 직접 확인하기\n",
    "df_augmented[df_augmented['label'].str.contains('예측형-미정-과거-확실')]"
   ]
  },
  {
   "cell_type": "code",
   "execution_count": 32,
   "id": "e969171a-92cb-4004-9776-c05383ce3150",
   "metadata": {},
   "outputs": [
    {
     "data": {
      "text/html": [
       "<div>\n",
       "<style scoped>\n",
       "    .dataframe tbody tr th:only-of-type {\n",
       "        vertical-align: middle;\n",
       "    }\n",
       "\n",
       "    .dataframe tbody tr th {\n",
       "        vertical-align: top;\n",
       "    }\n",
       "\n",
       "    .dataframe thead th {\n",
       "        text-align: right;\n",
       "    }\n",
       "</style>\n",
       "<table border=\"1\" class=\"dataframe\">\n",
       "  <thead>\n",
       "    <tr style=\"text-align: right;\">\n",
       "      <th></th>\n",
       "      <th>ID</th>\n",
       "      <th>문장</th>\n",
       "      <th>유형</th>\n",
       "      <th>극성</th>\n",
       "      <th>시제</th>\n",
       "      <th>확실성</th>\n",
       "      <th>label</th>\n",
       "    </tr>\n",
       "  </thead>\n",
       "  <tbody>\n",
       "    <tr>\n",
       "      <th>0</th>\n",
       "      <td>TRAIN_00722</td>\n",
       "      <td>하이 브랜드의 정점에 있는 에르메스의 도산파크 매장 지하에 위치한 레스토랑이다.</td>\n",
       "      <td>사실형</td>\n",
       "      <td>긍정</td>\n",
       "      <td>현재</td>\n",
       "      <td>확실</td>\n",
       "      <td>사실형-긍정-현재-확실</td>\n",
       "    </tr>\n",
       "    <tr>\n",
       "      <th>1</th>\n",
       "      <td>TRAIN_08482</td>\n",
       "      <td>＂미래의 시간은 우리 세대가 경험한 것과 근본적으로 다를 것＂이라는 선언과 함께 이...</td>\n",
       "      <td>사실형</td>\n",
       "      <td>긍정</td>\n",
       "      <td>현재</td>\n",
       "      <td>확실</td>\n",
       "      <td>사실형-긍정-현재-확실</td>\n",
       "    </tr>\n",
       "    <tr>\n",
       "      <th>2</th>\n",
       "      <td>TRAIN_06286</td>\n",
       "      <td>1994년 이 책으로 이름을 날린 그는 작년 말 이코노미스트지가 같은 제목으로 낸 ...</td>\n",
       "      <td>사실형</td>\n",
       "      <td>긍정</td>\n",
       "      <td>과거</td>\n",
       "      <td>확실</td>\n",
       "      <td>사실형-긍정-과거-확실</td>\n",
       "    </tr>\n",
       "    <tr>\n",
       "      <th>3</th>\n",
       "      <td>TRAIN_01379</td>\n",
       "      <td>반려인들의 1순위 소원은 반려동물이 ＂나 아파＂라는 말이라도 해 줬으면 하는 것이다.</td>\n",
       "      <td>사실형</td>\n",
       "      <td>긍정</td>\n",
       "      <td>현재</td>\n",
       "      <td>확실</td>\n",
       "      <td>사실형-긍정-현재-확실</td>\n",
       "    </tr>\n",
       "    <tr>\n",
       "      <th>4</th>\n",
       "      <td>TRAIN_02644</td>\n",
       "      <td>학점은행제 학습자는 매테 800점 이상 취득 시 20학점, 600점 이상 취득 시 ...</td>\n",
       "      <td>사실형</td>\n",
       "      <td>긍정</td>\n",
       "      <td>현재</td>\n",
       "      <td>확실</td>\n",
       "      <td>사실형-긍정-현재-확실</td>\n",
       "    </tr>\n",
       "    <tr>\n",
       "      <th>...</th>\n",
       "      <td>...</td>\n",
       "      <td>...</td>\n",
       "      <td>...</td>\n",
       "      <td>...</td>\n",
       "      <td>...</td>\n",
       "      <td>...</td>\n",
       "      <td>...</td>\n",
       "    </tr>\n",
       "    <tr>\n",
       "      <th>7721</th>\n",
       "      <td>TRAIN_09695</td>\n",
       "      <td>농협은 신종 코로나바이러스로부터 농업인과 고객 안전을 지키기 위해 금융혜택 지원 등...</td>\n",
       "      <td>사실형</td>\n",
       "      <td>긍정</td>\n",
       "      <td>과거</td>\n",
       "      <td>확실</td>\n",
       "      <td>사실형-긍정-과거-확실</td>\n",
       "    </tr>\n",
       "    <tr>\n",
       "      <th>7722</th>\n",
       "      <td>TRAIN_13383</td>\n",
       "      <td>실제로 두 회사가 거둔 수출액은 지난해 각각 7135억원,  3079억원에 달했다.</td>\n",
       "      <td>사실형</td>\n",
       "      <td>긍정</td>\n",
       "      <td>과거</td>\n",
       "      <td>확실</td>\n",
       "      <td>사실형-긍정-과거-확실</td>\n",
       "    </tr>\n",
       "    <tr>\n",
       "      <th>7723</th>\n",
       "      <td>TRAIN_13947</td>\n",
       "      <td>건물 내부는 아치를 반복해 부드러운 분위기를 연출했다.</td>\n",
       "      <td>사실형</td>\n",
       "      <td>긍정</td>\n",
       "      <td>과거</td>\n",
       "      <td>확실</td>\n",
       "      <td>사실형-긍정-과거-확실</td>\n",
       "    </tr>\n",
       "    <tr>\n",
       "      <th>7724</th>\n",
       "      <td>TRAIN_14872</td>\n",
       "      <td>미국의 ＇브레인 이니셔티브(BRAIN Initiative)＇, 유럽연합의 ＇휴먼브레...</td>\n",
       "      <td>사실형</td>\n",
       "      <td>긍정</td>\n",
       "      <td>현재</td>\n",
       "      <td>확실</td>\n",
       "      <td>사실형-긍정-현재-확실</td>\n",
       "    </tr>\n",
       "    <tr>\n",
       "      <th>7725</th>\n",
       "      <td>TRAIN_08003</td>\n",
       "      <td>서울 기생 소춘풍은 단아한 자태와 빼어난 용모로 이름을 떨쳤다.</td>\n",
       "      <td>사실형</td>\n",
       "      <td>긍정</td>\n",
       "      <td>과거</td>\n",
       "      <td>확실</td>\n",
       "      <td>사실형-긍정-과거-확실</td>\n",
       "    </tr>\n",
       "  </tbody>\n",
       "</table>\n",
       "<p>7726 rows × 7 columns</p>\n",
       "</div>"
      ],
      "text/plain": [
       "               ID                                                 문장   유형  극성  \\\n",
       "0     TRAIN_00722       하이 브랜드의 정점에 있는 에르메스의 도산파크 매장 지하에 위치한 레스토랑이다.  사실형  긍정   \n",
       "1     TRAIN_08482  ＂미래의 시간은 우리 세대가 경험한 것과 근본적으로 다를 것＂이라는 선언과 함께 이...  사실형  긍정   \n",
       "2     TRAIN_06286  1994년 이 책으로 이름을 날린 그는 작년 말 이코노미스트지가 같은 제목으로 낸 ...  사실형  긍정   \n",
       "3     TRAIN_01379    반려인들의 1순위 소원은 반려동물이 ＂나 아파＂라는 말이라도 해 줬으면 하는 것이다.  사실형  긍정   \n",
       "4     TRAIN_02644  학점은행제 학습자는 매테 800점 이상 취득 시 20학점, 600점 이상 취득 시 ...  사실형  긍정   \n",
       "...           ...                                                ...  ...  ..   \n",
       "7721  TRAIN_09695  농협은 신종 코로나바이러스로부터 농업인과 고객 안전을 지키기 위해 금융혜택 지원 등...  사실형  긍정   \n",
       "7722  TRAIN_13383     실제로 두 회사가 거둔 수출액은 지난해 각각 7135억원,  3079억원에 달했다.  사실형  긍정   \n",
       "7723  TRAIN_13947                     건물 내부는 아치를 반복해 부드러운 분위기를 연출했다.  사실형  긍정   \n",
       "7724  TRAIN_14872  미국의 ＇브레인 이니셔티브(BRAIN Initiative)＇, 유럽연합의 ＇휴먼브레...  사실형  긍정   \n",
       "7725  TRAIN_08003                서울 기생 소춘풍은 단아한 자태와 빼어난 용모로 이름을 떨쳤다.  사실형  긍정   \n",
       "\n",
       "      시제 확실성         label  \n",
       "0     현재  확실  사실형-긍정-현재-확실  \n",
       "1     현재  확실  사실형-긍정-현재-확실  \n",
       "2     과거  확실  사실형-긍정-과거-확실  \n",
       "3     현재  확실  사실형-긍정-현재-확실  \n",
       "4     현재  확실  사실형-긍정-현재-확실  \n",
       "...   ..  ..           ...  \n",
       "7721  과거  확실  사실형-긍정-과거-확실  \n",
       "7722  과거  확실  사실형-긍정-과거-확실  \n",
       "7723  과거  확실  사실형-긍정-과거-확실  \n",
       "7724  현재  확실  사실형-긍정-현재-확실  \n",
       "7725  과거  확실  사실형-긍정-과거-확실  \n",
       "\n",
       "[7726 rows x 7 columns]"
      ]
     },
     "execution_count": 32,
     "metadata": {},
     "output_type": "execute_result"
    }
   ],
   "source": [
    "df_final_augmented = df_augmented.loc[:, ['ID', '문장', '유형', '극성', '시제', '확실성', 'label']]\n",
    "df_final_augmented.to_csv('./dataset/df_augmented_.csv',index = False)\n",
    "df_final_augmented\n"
   ]
  }
 ],
 "metadata": {
  "kernelspec": {
   "display_name": "Python 3 (ipykernel)",
   "language": "python",
   "name": "python3"
  },
  "language_info": {
   "codemirror_mode": {
    "name": "ipython",
    "version": 3
   },
   "file_extension": ".py",
   "mimetype": "text/x-python",
   "name": "python",
   "nbconvert_exporter": "python",
   "pygments_lexer": "ipython3",
   "version": "3.9.12"
  }
 },
 "nbformat": 4,
 "nbformat_minor": 5
}
